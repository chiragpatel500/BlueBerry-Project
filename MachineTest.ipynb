{
 "metadata": {
  "language_info": {
   "codemirror_mode": {
    "name": "ipython",
    "version": 3
   },
   "file_extension": ".py",
   "mimetype": "text/x-python",
   "name": "python",
   "nbconvert_exporter": "python",
   "pygments_lexer": "ipython3",
   "version": "3.8.5-final"
  },
  "orig_nbformat": 2,
  "kernelspec": {
   "name": "python3",
   "display_name": "Python 3",
   "language": "python"
  }
 },
 "nbformat": 4,
 "nbformat_minor": 2,
 "cells": [
  {
   "cell_type": "code",
   "execution_count": 1,
   "metadata": {},
   "outputs": [],
   "source": [
    "import pandas as pd\n",
    "import numpy as np\n",
    "\n",
    "red_wine = pd.read_csv('https://archive.ics.uci.edu/ml/machine-learning-databases/wine-quality/winequality-red.csv', sep = ';')\n",
    "red_wine['wine_type'] = 'red'\n",
    "red_wine['quality_label'] = red_wine['quality'].apply(lambda value: 'low'\n",
    "if value <= 5 else 'medium'\n",
    "if value <= 7 else 'high')\n",
    "red_wine['quality_label'] = pd.Categorical(red_wine['quality_label'],\n",
    "categories=['low', 'medium', 'high'])\n",
    "\n",
    "white_wine = pd.read_csv('https://archive.ics.uci.edu/ml/machine-learning-databases/wine-quality/winequality-white.csv', sep = ';')\n",
    "white_wine['wine_type'] = 'white'\n",
    "white_wine['quality_label'] = white_wine['quality'].apply(lambda value: 'low'\n",
    "if value <= 5 else 'medium'\n",
    "if value <= 7 else 'high')\n",
    "white_wine['quality_label'] = pd.Categorical(white_wine['quality_label'],\n",
    "categories=['low', 'medium', 'high'])\n",
    "\n",
    "wines = pd.concat([red_wine, white_wine])\n",
    "\n",
    "wines = wines.sample(frac=1, random_state=42).reset_index(drop=True)\n",
    "import warnings\n",
    "warnings.filterwarnings('ignore')\n"
   ]
  },
  {
   "cell_type": "code",
   "execution_count": 2,
   "metadata": {},
   "outputs": [
    {
     "output_type": "execute_result",
     "data": {
      "text/plain": [
       "      fixed acidity  volatile acidity  citric acid  residual sugar  chlorides  \\\n",
       "0               7.0              0.17         0.74           12.80      0.045   \n",
       "1               7.7              0.64         0.21            2.20      0.077   \n",
       "2               6.8              0.39         0.34            7.40      0.020   \n",
       "3               6.3              0.28         0.47           11.20      0.040   \n",
       "4               7.4              0.35         0.20           13.90      0.054   \n",
       "...             ...               ...          ...             ...        ...   \n",
       "6492            7.6              0.32         0.58           16.75      0.050   \n",
       "6493            5.6              0.28         0.27            3.90      0.043   \n",
       "6494            6.4              0.37         0.20            5.60      0.117   \n",
       "6495            6.5              0.26         0.50            8.00      0.051   \n",
       "6496            7.2              0.62         0.06            2.70      0.077   \n",
       "\n",
       "      free sulfur dioxide  total sulfur dioxide  density    pH  sulphates  \\\n",
       "0                    24.0                 126.0  0.99420  3.26       0.38   \n",
       "1                    32.0                 133.0  0.99560  3.27       0.45   \n",
       "2                    38.0                 133.0  0.99212  3.18       0.44   \n",
       "3                    61.0                 183.0  0.99592  3.12       0.51   \n",
       "4                    63.0                 229.0  0.99888  3.11       0.50   \n",
       "...                   ...                   ...      ...   ...        ...   \n",
       "6492                 43.0                 163.0  0.99990  3.15       0.54   \n",
       "6493                 52.0                 158.0  0.99202  3.35       0.44   \n",
       "6494                 61.0                 183.0  0.99459  3.24       0.43   \n",
       "6495                 46.0                 197.0  0.99536  3.18       0.47   \n",
       "6496                 15.0                  85.0  0.99746  3.51       0.54   \n",
       "\n",
       "      alcohol  quality wine_type quality_label  \n",
       "0        12.2        8     white          high  \n",
       "1         9.9        5       red           low  \n",
       "2        12.0        7     white        medium  \n",
       "3         9.5        6     white        medium  \n",
       "4         8.9        6     white        medium  \n",
       "...       ...      ...       ...           ...  \n",
       "6492      9.2        5     white           low  \n",
       "6493     10.7        7     white        medium  \n",
       "6494      9.5        5     white           low  \n",
       "6495      9.5        5     white           low  \n",
       "6496      9.5        5       red           low  \n",
       "\n",
       "[6497 rows x 14 columns]"
      ],
      "text/html": "<div>\n<style scoped>\n    .dataframe tbody tr th:only-of-type {\n        vertical-align: middle;\n    }\n\n    .dataframe tbody tr th {\n        vertical-align: top;\n    }\n\n    .dataframe thead th {\n        text-align: right;\n    }\n</style>\n<table border=\"1\" class=\"dataframe\">\n  <thead>\n    <tr style=\"text-align: right;\">\n      <th></th>\n      <th>fixed acidity</th>\n      <th>volatile acidity</th>\n      <th>citric acid</th>\n      <th>residual sugar</th>\n      <th>chlorides</th>\n      <th>free sulfur dioxide</th>\n      <th>total sulfur dioxide</th>\n      <th>density</th>\n      <th>pH</th>\n      <th>sulphates</th>\n      <th>alcohol</th>\n      <th>quality</th>\n      <th>wine_type</th>\n      <th>quality_label</th>\n    </tr>\n  </thead>\n  <tbody>\n    <tr>\n      <th>0</th>\n      <td>7.0</td>\n      <td>0.17</td>\n      <td>0.74</td>\n      <td>12.80</td>\n      <td>0.045</td>\n      <td>24.0</td>\n      <td>126.0</td>\n      <td>0.99420</td>\n      <td>3.26</td>\n      <td>0.38</td>\n      <td>12.2</td>\n      <td>8</td>\n      <td>white</td>\n      <td>high</td>\n    </tr>\n    <tr>\n      <th>1</th>\n      <td>7.7</td>\n      <td>0.64</td>\n      <td>0.21</td>\n      <td>2.20</td>\n      <td>0.077</td>\n      <td>32.0</td>\n      <td>133.0</td>\n      <td>0.99560</td>\n      <td>3.27</td>\n      <td>0.45</td>\n      <td>9.9</td>\n      <td>5</td>\n      <td>red</td>\n      <td>low</td>\n    </tr>\n    <tr>\n      <th>2</th>\n      <td>6.8</td>\n      <td>0.39</td>\n      <td>0.34</td>\n      <td>7.40</td>\n      <td>0.020</td>\n      <td>38.0</td>\n      <td>133.0</td>\n      <td>0.99212</td>\n      <td>3.18</td>\n      <td>0.44</td>\n      <td>12.0</td>\n      <td>7</td>\n      <td>white</td>\n      <td>medium</td>\n    </tr>\n    <tr>\n      <th>3</th>\n      <td>6.3</td>\n      <td>0.28</td>\n      <td>0.47</td>\n      <td>11.20</td>\n      <td>0.040</td>\n      <td>61.0</td>\n      <td>183.0</td>\n      <td>0.99592</td>\n      <td>3.12</td>\n      <td>0.51</td>\n      <td>9.5</td>\n      <td>6</td>\n      <td>white</td>\n      <td>medium</td>\n    </tr>\n    <tr>\n      <th>4</th>\n      <td>7.4</td>\n      <td>0.35</td>\n      <td>0.20</td>\n      <td>13.90</td>\n      <td>0.054</td>\n      <td>63.0</td>\n      <td>229.0</td>\n      <td>0.99888</td>\n      <td>3.11</td>\n      <td>0.50</td>\n      <td>8.9</td>\n      <td>6</td>\n      <td>white</td>\n      <td>medium</td>\n    </tr>\n    <tr>\n      <th>...</th>\n      <td>...</td>\n      <td>...</td>\n      <td>...</td>\n      <td>...</td>\n      <td>...</td>\n      <td>...</td>\n      <td>...</td>\n      <td>...</td>\n      <td>...</td>\n      <td>...</td>\n      <td>...</td>\n      <td>...</td>\n      <td>...</td>\n      <td>...</td>\n    </tr>\n    <tr>\n      <th>6492</th>\n      <td>7.6</td>\n      <td>0.32</td>\n      <td>0.58</td>\n      <td>16.75</td>\n      <td>0.050</td>\n      <td>43.0</td>\n      <td>163.0</td>\n      <td>0.99990</td>\n      <td>3.15</td>\n      <td>0.54</td>\n      <td>9.2</td>\n      <td>5</td>\n      <td>white</td>\n      <td>low</td>\n    </tr>\n    <tr>\n      <th>6493</th>\n      <td>5.6</td>\n      <td>0.28</td>\n      <td>0.27</td>\n      <td>3.90</td>\n      <td>0.043</td>\n      <td>52.0</td>\n      <td>158.0</td>\n      <td>0.99202</td>\n      <td>3.35</td>\n      <td>0.44</td>\n      <td>10.7</td>\n      <td>7</td>\n      <td>white</td>\n      <td>medium</td>\n    </tr>\n    <tr>\n      <th>6494</th>\n      <td>6.4</td>\n      <td>0.37</td>\n      <td>0.20</td>\n      <td>5.60</td>\n      <td>0.117</td>\n      <td>61.0</td>\n      <td>183.0</td>\n      <td>0.99459</td>\n      <td>3.24</td>\n      <td>0.43</td>\n      <td>9.5</td>\n      <td>5</td>\n      <td>white</td>\n      <td>low</td>\n    </tr>\n    <tr>\n      <th>6495</th>\n      <td>6.5</td>\n      <td>0.26</td>\n      <td>0.50</td>\n      <td>8.00</td>\n      <td>0.051</td>\n      <td>46.0</td>\n      <td>197.0</td>\n      <td>0.99536</td>\n      <td>3.18</td>\n      <td>0.47</td>\n      <td>9.5</td>\n      <td>5</td>\n      <td>white</td>\n      <td>low</td>\n    </tr>\n    <tr>\n      <th>6496</th>\n      <td>7.2</td>\n      <td>0.62</td>\n      <td>0.06</td>\n      <td>2.70</td>\n      <td>0.077</td>\n      <td>15.0</td>\n      <td>85.0</td>\n      <td>0.99746</td>\n      <td>3.51</td>\n      <td>0.54</td>\n      <td>9.5</td>\n      <td>5</td>\n      <td>red</td>\n      <td>low</td>\n    </tr>\n  </tbody>\n</table>\n<p>6497 rows × 14 columns</p>\n</div>"
     },
     "metadata": {},
     "execution_count": 2
    }
   ],
   "source": [
    "wines\n"
   ]
  },
  {
   "cell_type": "code",
   "execution_count": 3,
   "metadata": {},
   "outputs": [],
   "source": [
    "wines.wine_type=wines.wine_type.astype('category')"
   ]
  },
  {
   "cell_type": "code",
   "execution_count": 4,
   "metadata": {},
   "outputs": [
    {
     "output_type": "execute_result",
     "data": {
      "text/plain": [
       "fixed acidity            float64\n",
       "volatile acidity         float64\n",
       "citric acid              float64\n",
       "residual sugar           float64\n",
       "chlorides                float64\n",
       "free sulfur dioxide      float64\n",
       "total sulfur dioxide     float64\n",
       "density                  float64\n",
       "pH                       float64\n",
       "sulphates                float64\n",
       "alcohol                  float64\n",
       "quality                    int64\n",
       "wine_type               category\n",
       "quality_label           category\n",
       "dtype: object"
      ]
     },
     "metadata": {},
     "execution_count": 4
    }
   ],
   "source": [
    "wines.dtypes"
   ]
  },
  {
   "cell_type": "code",
   "execution_count": 7,
   "metadata": {},
   "outputs": [],
   "source": [
    "X=wines.loc[:,'fixed acidity':'alcohol']"
   ]
  },
  {
   "cell_type": "code",
   "execution_count": 8,
   "metadata": {},
   "outputs": [
    {
     "output_type": "execute_result",
     "data": {
      "text/plain": [
       "      fixed acidity  volatile acidity  citric acid  residual sugar  chlorides  \\\n",
       "0               7.0              0.17         0.74           12.80      0.045   \n",
       "1               7.7              0.64         0.21            2.20      0.077   \n",
       "2               6.8              0.39         0.34            7.40      0.020   \n",
       "3               6.3              0.28         0.47           11.20      0.040   \n",
       "4               7.4              0.35         0.20           13.90      0.054   \n",
       "...             ...               ...          ...             ...        ...   \n",
       "6492            7.6              0.32         0.58           16.75      0.050   \n",
       "6493            5.6              0.28         0.27            3.90      0.043   \n",
       "6494            6.4              0.37         0.20            5.60      0.117   \n",
       "6495            6.5              0.26         0.50            8.00      0.051   \n",
       "6496            7.2              0.62         0.06            2.70      0.077   \n",
       "\n",
       "      free sulfur dioxide  total sulfur dioxide  density    pH  sulphates  \\\n",
       "0                    24.0                 126.0  0.99420  3.26       0.38   \n",
       "1                    32.0                 133.0  0.99560  3.27       0.45   \n",
       "2                    38.0                 133.0  0.99212  3.18       0.44   \n",
       "3                    61.0                 183.0  0.99592  3.12       0.51   \n",
       "4                    63.0                 229.0  0.99888  3.11       0.50   \n",
       "...                   ...                   ...      ...   ...        ...   \n",
       "6492                 43.0                 163.0  0.99990  3.15       0.54   \n",
       "6493                 52.0                 158.0  0.99202  3.35       0.44   \n",
       "6494                 61.0                 183.0  0.99459  3.24       0.43   \n",
       "6495                 46.0                 197.0  0.99536  3.18       0.47   \n",
       "6496                 15.0                  85.0  0.99746  3.51       0.54   \n",
       "\n",
       "      alcohol  \n",
       "0        12.2  \n",
       "1         9.9  \n",
       "2        12.0  \n",
       "3         9.5  \n",
       "4         8.9  \n",
       "...       ...  \n",
       "6492      9.2  \n",
       "6493     10.7  \n",
       "6494      9.5  \n",
       "6495      9.5  \n",
       "6496      9.5  \n",
       "\n",
       "[6497 rows x 11 columns]"
      ],
      "text/html": "<div>\n<style scoped>\n    .dataframe tbody tr th:only-of-type {\n        vertical-align: middle;\n    }\n\n    .dataframe tbody tr th {\n        vertical-align: top;\n    }\n\n    .dataframe thead th {\n        text-align: right;\n    }\n</style>\n<table border=\"1\" class=\"dataframe\">\n  <thead>\n    <tr style=\"text-align: right;\">\n      <th></th>\n      <th>fixed acidity</th>\n      <th>volatile acidity</th>\n      <th>citric acid</th>\n      <th>residual sugar</th>\n      <th>chlorides</th>\n      <th>free sulfur dioxide</th>\n      <th>total sulfur dioxide</th>\n      <th>density</th>\n      <th>pH</th>\n      <th>sulphates</th>\n      <th>alcohol</th>\n    </tr>\n  </thead>\n  <tbody>\n    <tr>\n      <th>0</th>\n      <td>7.0</td>\n      <td>0.17</td>\n      <td>0.74</td>\n      <td>12.80</td>\n      <td>0.045</td>\n      <td>24.0</td>\n      <td>126.0</td>\n      <td>0.99420</td>\n      <td>3.26</td>\n      <td>0.38</td>\n      <td>12.2</td>\n    </tr>\n    <tr>\n      <th>1</th>\n      <td>7.7</td>\n      <td>0.64</td>\n      <td>0.21</td>\n      <td>2.20</td>\n      <td>0.077</td>\n      <td>32.0</td>\n      <td>133.0</td>\n      <td>0.99560</td>\n      <td>3.27</td>\n      <td>0.45</td>\n      <td>9.9</td>\n    </tr>\n    <tr>\n      <th>2</th>\n      <td>6.8</td>\n      <td>0.39</td>\n      <td>0.34</td>\n      <td>7.40</td>\n      <td>0.020</td>\n      <td>38.0</td>\n      <td>133.0</td>\n      <td>0.99212</td>\n      <td>3.18</td>\n      <td>0.44</td>\n      <td>12.0</td>\n    </tr>\n    <tr>\n      <th>3</th>\n      <td>6.3</td>\n      <td>0.28</td>\n      <td>0.47</td>\n      <td>11.20</td>\n      <td>0.040</td>\n      <td>61.0</td>\n      <td>183.0</td>\n      <td>0.99592</td>\n      <td>3.12</td>\n      <td>0.51</td>\n      <td>9.5</td>\n    </tr>\n    <tr>\n      <th>4</th>\n      <td>7.4</td>\n      <td>0.35</td>\n      <td>0.20</td>\n      <td>13.90</td>\n      <td>0.054</td>\n      <td>63.0</td>\n      <td>229.0</td>\n      <td>0.99888</td>\n      <td>3.11</td>\n      <td>0.50</td>\n      <td>8.9</td>\n    </tr>\n    <tr>\n      <th>...</th>\n      <td>...</td>\n      <td>...</td>\n      <td>...</td>\n      <td>...</td>\n      <td>...</td>\n      <td>...</td>\n      <td>...</td>\n      <td>...</td>\n      <td>...</td>\n      <td>...</td>\n      <td>...</td>\n    </tr>\n    <tr>\n      <th>6492</th>\n      <td>7.6</td>\n      <td>0.32</td>\n      <td>0.58</td>\n      <td>16.75</td>\n      <td>0.050</td>\n      <td>43.0</td>\n      <td>163.0</td>\n      <td>0.99990</td>\n      <td>3.15</td>\n      <td>0.54</td>\n      <td>9.2</td>\n    </tr>\n    <tr>\n      <th>6493</th>\n      <td>5.6</td>\n      <td>0.28</td>\n      <td>0.27</td>\n      <td>3.90</td>\n      <td>0.043</td>\n      <td>52.0</td>\n      <td>158.0</td>\n      <td>0.99202</td>\n      <td>3.35</td>\n      <td>0.44</td>\n      <td>10.7</td>\n    </tr>\n    <tr>\n      <th>6494</th>\n      <td>6.4</td>\n      <td>0.37</td>\n      <td>0.20</td>\n      <td>5.60</td>\n      <td>0.117</td>\n      <td>61.0</td>\n      <td>183.0</td>\n      <td>0.99459</td>\n      <td>3.24</td>\n      <td>0.43</td>\n      <td>9.5</td>\n    </tr>\n    <tr>\n      <th>6495</th>\n      <td>6.5</td>\n      <td>0.26</td>\n      <td>0.50</td>\n      <td>8.00</td>\n      <td>0.051</td>\n      <td>46.0</td>\n      <td>197.0</td>\n      <td>0.99536</td>\n      <td>3.18</td>\n      <td>0.47</td>\n      <td>9.5</td>\n    </tr>\n    <tr>\n      <th>6496</th>\n      <td>7.2</td>\n      <td>0.62</td>\n      <td>0.06</td>\n      <td>2.70</td>\n      <td>0.077</td>\n      <td>15.0</td>\n      <td>85.0</td>\n      <td>0.99746</td>\n      <td>3.51</td>\n      <td>0.54</td>\n      <td>9.5</td>\n    </tr>\n  </tbody>\n</table>\n<p>6497 rows × 11 columns</p>\n</div>"
     },
     "metadata": {},
     "execution_count": 8
    }
   ],
   "source": [
    "X"
   ]
  },
  {
   "cell_type": "code",
   "execution_count": 9,
   "metadata": {},
   "outputs": [],
   "source": [
    "y = wines['wine_type']"
   ]
  },
  {
   "cell_type": "code",
   "execution_count": 10,
   "metadata": {},
   "outputs": [
    {
     "output_type": "execute_result",
     "data": {
      "text/plain": [
       "0       white\n",
       "1         red\n",
       "2       white\n",
       "3       white\n",
       "4       white\n",
       "        ...  \n",
       "6492    white\n",
       "6493    white\n",
       "6494    white\n",
       "6495    white\n",
       "6496      red\n",
       "Name: wine_type, Length: 6497, dtype: category\n",
       "Categories (2, object): ['red', 'white']"
      ]
     },
     "metadata": {},
     "execution_count": 10
    }
   ],
   "source": [
    "y"
   ]
  },
  {
   "cell_type": "code",
   "execution_count": 12,
   "metadata": {},
   "outputs": [],
   "source": [
    "from sklearn.model_selection import train_test_split\n",
    "from collections import Counter\n",
    "from sklearn.preprocessing import StandardScaler\n",
    "from sklearn.preprocessing import LabelEncoder"
   ]
  },
  {
   "cell_type": "code",
   "execution_count": 13,
   "metadata": {},
   "outputs": [],
   "source": [
    "X_train, X_test, y_train, y_test = train_test_split(X, y, test_size=0.2, random_state = 208)"
   ]
  },
  {
   "cell_type": "code",
   "execution_count": 14,
   "metadata": {},
   "outputs": [
    {
     "output_type": "execute_result",
     "data": {
      "text/plain": [
       "(5197, 11)"
      ]
     },
     "metadata": {},
     "execution_count": 14
    }
   ],
   "source": [
    "X_train.shape"
   ]
  },
  {
   "cell_type": "code",
   "execution_count": 15,
   "metadata": {},
   "outputs": [],
   "source": [
    "clf = LogisticRegression().fit(X_train, y_train)"
   ]
  },
  {
   "cell_type": "code",
   "execution_count": 16,
   "metadata": {},
   "outputs": [
    {
     "output_type": "execute_result",
     "data": {
      "text/plain": [
       "0.9815384615384616"
      ]
     },
     "metadata": {},
     "execution_count": 16
    }
   ],
   "source": [
    "clf.score(X_test,y_test)"
   ]
  },
  {
   "cell_type": "code",
   "execution_count": null,
   "metadata": {},
   "outputs": [],
   "source": [
    "# KNN"
   ]
  },
  {
   "cell_type": "code",
   "execution_count": 17,
   "metadata": {},
   "outputs": [],
   "source": [
    "X_train, X_test, y_train, y_test = train_test_split(X, y, test_size=0.2, random_state= 208)"
   ]
  },
  {
   "cell_type": "code",
   "execution_count": null,
   "metadata": {},
   "outputs": [],
   "source": []
  }
 ]
}