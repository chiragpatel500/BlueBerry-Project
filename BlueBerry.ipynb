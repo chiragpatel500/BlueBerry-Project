{
 "metadata": {
  "language_info": {
   "codemirror_mode": {
    "name": "ipython",
    "version": 3
   },
   "file_extension": ".py",
   "mimetype": "text/x-python",
   "name": "python",
   "nbconvert_exporter": "python",
   "pygments_lexer": "ipython3",
   "version": "3.8.5-final"
  },
  "orig_nbformat": 2,
  "kernelspec": {
   "name": "python3",
   "display_name": "Python 3",
   "language": "python"
  }
 },
 "nbformat": 4,
 "nbformat_minor": 2,
 "cells": [
  {
   "cell_type": "code",
   "execution_count": 59,
   "metadata": {},
   "outputs": [],
   "source": [
    "# importing libraries\n",
    "import pandas as pd\n",
    "import numpy as np\n",
    "import matplotlib.pyplot as plt"
   ]
  },
  {
   "cell_type": "code",
   "execution_count": 60,
   "metadata": {},
   "outputs": [
    {
     "output_type": "execute_result",
     "data": {
      "text/plain": [
       "      fixed acidity  volatile acidity  citric acid  residual sugar  chlorides  \\\n",
       "0               7.0              0.27         0.36            20.7      0.045   \n",
       "1               6.3              0.30         0.34             1.6      0.049   \n",
       "2               8.1              0.28         0.40             6.9      0.050   \n",
       "3               7.2              0.23         0.32             8.5      0.058   \n",
       "4               7.2              0.23         0.32             8.5      0.058   \n",
       "...             ...               ...          ...             ...        ...   \n",
       "4893            6.2              0.21         0.29             1.6      0.039   \n",
       "4894            6.6              0.32         0.36             8.0      0.047   \n",
       "4895            6.5              0.24         0.19             1.2      0.041   \n",
       "4896            5.5              0.29         0.30             1.1      0.022   \n",
       "4897            6.0              0.21         0.38             0.8      0.020   \n",
       "\n",
       "      free sulfur dioxide  total sulfur dioxide  density    pH  sulphates  \\\n",
       "0                    45.0                 170.0  1.00100  3.00       0.45   \n",
       "1                    14.0                 132.0  0.99400  3.30       0.49   \n",
       "2                    30.0                  97.0  0.99510  3.26       0.44   \n",
       "3                    47.0                 186.0  0.99560  3.19       0.40   \n",
       "4                    47.0                 186.0  0.99560  3.19       0.40   \n",
       "...                   ...                   ...      ...   ...        ...   \n",
       "4893                 24.0                  92.0  0.99114  3.27       0.50   \n",
       "4894                 57.0                 168.0  0.99490  3.15       0.46   \n",
       "4895                 30.0                 111.0  0.99254  2.99       0.46   \n",
       "4896                 20.0                 110.0  0.98869  3.34       0.38   \n",
       "4897                 22.0                  98.0  0.98941  3.26       0.32   \n",
       "\n",
       "      alcohol  quality  \n",
       "0         8.8        6  \n",
       "1         9.5        6  \n",
       "2        10.1        6  \n",
       "3         9.9        6  \n",
       "4         9.9        6  \n",
       "...       ...      ...  \n",
       "4893     11.2        6  \n",
       "4894      9.6        5  \n",
       "4895      9.4        6  \n",
       "4896     12.8        7  \n",
       "4897     11.8        6  \n",
       "\n",
       "[4898 rows x 12 columns]"
      ],
      "text/html": "<div>\n<style scoped>\n    .dataframe tbody tr th:only-of-type {\n        vertical-align: middle;\n    }\n\n    .dataframe tbody tr th {\n        vertical-align: top;\n    }\n\n    .dataframe thead th {\n        text-align: right;\n    }\n</style>\n<table border=\"1\" class=\"dataframe\">\n  <thead>\n    <tr style=\"text-align: right;\">\n      <th></th>\n      <th>fixed acidity</th>\n      <th>volatile acidity</th>\n      <th>citric acid</th>\n      <th>residual sugar</th>\n      <th>chlorides</th>\n      <th>free sulfur dioxide</th>\n      <th>total sulfur dioxide</th>\n      <th>density</th>\n      <th>pH</th>\n      <th>sulphates</th>\n      <th>alcohol</th>\n      <th>quality</th>\n    </tr>\n  </thead>\n  <tbody>\n    <tr>\n      <th>0</th>\n      <td>7.0</td>\n      <td>0.27</td>\n      <td>0.36</td>\n      <td>20.7</td>\n      <td>0.045</td>\n      <td>45.0</td>\n      <td>170.0</td>\n      <td>1.00100</td>\n      <td>3.00</td>\n      <td>0.45</td>\n      <td>8.8</td>\n      <td>6</td>\n    </tr>\n    <tr>\n      <th>1</th>\n      <td>6.3</td>\n      <td>0.30</td>\n      <td>0.34</td>\n      <td>1.6</td>\n      <td>0.049</td>\n      <td>14.0</td>\n      <td>132.0</td>\n      <td>0.99400</td>\n      <td>3.30</td>\n      <td>0.49</td>\n      <td>9.5</td>\n      <td>6</td>\n    </tr>\n    <tr>\n      <th>2</th>\n      <td>8.1</td>\n      <td>0.28</td>\n      <td>0.40</td>\n      <td>6.9</td>\n      <td>0.050</td>\n      <td>30.0</td>\n      <td>97.0</td>\n      <td>0.99510</td>\n      <td>3.26</td>\n      <td>0.44</td>\n      <td>10.1</td>\n      <td>6</td>\n    </tr>\n    <tr>\n      <th>3</th>\n      <td>7.2</td>\n      <td>0.23</td>\n      <td>0.32</td>\n      <td>8.5</td>\n      <td>0.058</td>\n      <td>47.0</td>\n      <td>186.0</td>\n      <td>0.99560</td>\n      <td>3.19</td>\n      <td>0.40</td>\n      <td>9.9</td>\n      <td>6</td>\n    </tr>\n    <tr>\n      <th>4</th>\n      <td>7.2</td>\n      <td>0.23</td>\n      <td>0.32</td>\n      <td>8.5</td>\n      <td>0.058</td>\n      <td>47.0</td>\n      <td>186.0</td>\n      <td>0.99560</td>\n      <td>3.19</td>\n      <td>0.40</td>\n      <td>9.9</td>\n      <td>6</td>\n    </tr>\n    <tr>\n      <th>...</th>\n      <td>...</td>\n      <td>...</td>\n      <td>...</td>\n      <td>...</td>\n      <td>...</td>\n      <td>...</td>\n      <td>...</td>\n      <td>...</td>\n      <td>...</td>\n      <td>...</td>\n      <td>...</td>\n      <td>...</td>\n    </tr>\n    <tr>\n      <th>4893</th>\n      <td>6.2</td>\n      <td>0.21</td>\n      <td>0.29</td>\n      <td>1.6</td>\n      <td>0.039</td>\n      <td>24.0</td>\n      <td>92.0</td>\n      <td>0.99114</td>\n      <td>3.27</td>\n      <td>0.50</td>\n      <td>11.2</td>\n      <td>6</td>\n    </tr>\n    <tr>\n      <th>4894</th>\n      <td>6.6</td>\n      <td>0.32</td>\n      <td>0.36</td>\n      <td>8.0</td>\n      <td>0.047</td>\n      <td>57.0</td>\n      <td>168.0</td>\n      <td>0.99490</td>\n      <td>3.15</td>\n      <td>0.46</td>\n      <td>9.6</td>\n      <td>5</td>\n    </tr>\n    <tr>\n      <th>4895</th>\n      <td>6.5</td>\n      <td>0.24</td>\n      <td>0.19</td>\n      <td>1.2</td>\n      <td>0.041</td>\n      <td>30.0</td>\n      <td>111.0</td>\n      <td>0.99254</td>\n      <td>2.99</td>\n      <td>0.46</td>\n      <td>9.4</td>\n      <td>6</td>\n    </tr>\n    <tr>\n      <th>4896</th>\n      <td>5.5</td>\n      <td>0.29</td>\n      <td>0.30</td>\n      <td>1.1</td>\n      <td>0.022</td>\n      <td>20.0</td>\n      <td>110.0</td>\n      <td>0.98869</td>\n      <td>3.34</td>\n      <td>0.38</td>\n      <td>12.8</td>\n      <td>7</td>\n    </tr>\n    <tr>\n      <th>4897</th>\n      <td>6.0</td>\n      <td>0.21</td>\n      <td>0.38</td>\n      <td>0.8</td>\n      <td>0.020</td>\n      <td>22.0</td>\n      <td>98.0</td>\n      <td>0.98941</td>\n      <td>3.26</td>\n      <td>0.32</td>\n      <td>11.8</td>\n      <td>6</td>\n    </tr>\n  </tbody>\n</table>\n<p>4898 rows × 12 columns</p>\n</div>"
     },
     "metadata": {},
     "execution_count": 60
    }
   ],
   "source": [
    "# importing csv Files\n",
    "red_wine = pd.read_csv('https://archive.ics.uci.edu/ml/machine-learning-databases/wine-quality/winequality-red.csv', sep = ';')\n",
    "white_wine = pd.read_csv('https://archive.ics.uci.edu/ml/machine-learning-databases/wine-quality/winequality-white.csv',sep = ';')\n",
    "\n",
    "white_wine"
   ]
  },
  {
   "cell_type": "code",
   "execution_count": 61,
   "metadata": {},
   "outputs": [
    {
     "output_type": "execute_result",
     "data": {
      "text/plain": [
       "      fixed acidity  volatile acidity  citric acid  residual sugar  chlorides  \\\n",
       "0               7.4             0.700         0.00             1.9      0.076   \n",
       "1               7.8             0.880         0.00             2.6      0.098   \n",
       "2               7.8             0.760         0.04             2.3      0.092   \n",
       "3              11.2             0.280         0.56             1.9      0.075   \n",
       "4               7.4             0.700         0.00             1.9      0.076   \n",
       "...             ...               ...          ...             ...        ...   \n",
       "1594            6.2             0.600         0.08             2.0      0.090   \n",
       "1595            5.9             0.550         0.10             2.2      0.062   \n",
       "1596            6.3             0.510         0.13             2.3      0.076   \n",
       "1597            5.9             0.645         0.12             2.0      0.075   \n",
       "1598            6.0             0.310         0.47             3.6      0.067   \n",
       "\n",
       "      free sulfur dioxide  total sulfur dioxide  density    pH  sulphates  \\\n",
       "0                    11.0                  34.0  0.99780  3.51       0.56   \n",
       "1                    25.0                  67.0  0.99680  3.20       0.68   \n",
       "2                    15.0                  54.0  0.99700  3.26       0.65   \n",
       "3                    17.0                  60.0  0.99800  3.16       0.58   \n",
       "4                    11.0                  34.0  0.99780  3.51       0.56   \n",
       "...                   ...                   ...      ...   ...        ...   \n",
       "1594                 32.0                  44.0  0.99490  3.45       0.58   \n",
       "1595                 39.0                  51.0  0.99512  3.52       0.76   \n",
       "1596                 29.0                  40.0  0.99574  3.42       0.75   \n",
       "1597                 32.0                  44.0  0.99547  3.57       0.71   \n",
       "1598                 18.0                  42.0  0.99549  3.39       0.66   \n",
       "\n",
       "      alcohol  quality wine_type  \n",
       "0         9.4        5       red  \n",
       "1         9.8        5       red  \n",
       "2         9.8        5       red  \n",
       "3         9.8        6       red  \n",
       "4         9.4        5       red  \n",
       "...       ...      ...       ...  \n",
       "1594     10.5        5       red  \n",
       "1595     11.2        6       red  \n",
       "1596     11.0        6       red  \n",
       "1597     10.2        5       red  \n",
       "1598     11.0        6       red  \n",
       "\n",
       "[1599 rows x 13 columns]"
      ],
      "text/html": "<div>\n<style scoped>\n    .dataframe tbody tr th:only-of-type {\n        vertical-align: middle;\n    }\n\n    .dataframe tbody tr th {\n        vertical-align: top;\n    }\n\n    .dataframe thead th {\n        text-align: right;\n    }\n</style>\n<table border=\"1\" class=\"dataframe\">\n  <thead>\n    <tr style=\"text-align: right;\">\n      <th></th>\n      <th>fixed acidity</th>\n      <th>volatile acidity</th>\n      <th>citric acid</th>\n      <th>residual sugar</th>\n      <th>chlorides</th>\n      <th>free sulfur dioxide</th>\n      <th>total sulfur dioxide</th>\n      <th>density</th>\n      <th>pH</th>\n      <th>sulphates</th>\n      <th>alcohol</th>\n      <th>quality</th>\n      <th>wine_type</th>\n    </tr>\n  </thead>\n  <tbody>\n    <tr>\n      <th>0</th>\n      <td>7.4</td>\n      <td>0.700</td>\n      <td>0.00</td>\n      <td>1.9</td>\n      <td>0.076</td>\n      <td>11.0</td>\n      <td>34.0</td>\n      <td>0.99780</td>\n      <td>3.51</td>\n      <td>0.56</td>\n      <td>9.4</td>\n      <td>5</td>\n      <td>red</td>\n    </tr>\n    <tr>\n      <th>1</th>\n      <td>7.8</td>\n      <td>0.880</td>\n      <td>0.00</td>\n      <td>2.6</td>\n      <td>0.098</td>\n      <td>25.0</td>\n      <td>67.0</td>\n      <td>0.99680</td>\n      <td>3.20</td>\n      <td>0.68</td>\n      <td>9.8</td>\n      <td>5</td>\n      <td>red</td>\n    </tr>\n    <tr>\n      <th>2</th>\n      <td>7.8</td>\n      <td>0.760</td>\n      <td>0.04</td>\n      <td>2.3</td>\n      <td>0.092</td>\n      <td>15.0</td>\n      <td>54.0</td>\n      <td>0.99700</td>\n      <td>3.26</td>\n      <td>0.65</td>\n      <td>9.8</td>\n      <td>5</td>\n      <td>red</td>\n    </tr>\n    <tr>\n      <th>3</th>\n      <td>11.2</td>\n      <td>0.280</td>\n      <td>0.56</td>\n      <td>1.9</td>\n      <td>0.075</td>\n      <td>17.0</td>\n      <td>60.0</td>\n      <td>0.99800</td>\n      <td>3.16</td>\n      <td>0.58</td>\n      <td>9.8</td>\n      <td>6</td>\n      <td>red</td>\n    </tr>\n    <tr>\n      <th>4</th>\n      <td>7.4</td>\n      <td>0.700</td>\n      <td>0.00</td>\n      <td>1.9</td>\n      <td>0.076</td>\n      <td>11.0</td>\n      <td>34.0</td>\n      <td>0.99780</td>\n      <td>3.51</td>\n      <td>0.56</td>\n      <td>9.4</td>\n      <td>5</td>\n      <td>red</td>\n    </tr>\n    <tr>\n      <th>...</th>\n      <td>...</td>\n      <td>...</td>\n      <td>...</td>\n      <td>...</td>\n      <td>...</td>\n      <td>...</td>\n      <td>...</td>\n      <td>...</td>\n      <td>...</td>\n      <td>...</td>\n      <td>...</td>\n      <td>...</td>\n      <td>...</td>\n    </tr>\n    <tr>\n      <th>1594</th>\n      <td>6.2</td>\n      <td>0.600</td>\n      <td>0.08</td>\n      <td>2.0</td>\n      <td>0.090</td>\n      <td>32.0</td>\n      <td>44.0</td>\n      <td>0.99490</td>\n      <td>3.45</td>\n      <td>0.58</td>\n      <td>10.5</td>\n      <td>5</td>\n      <td>red</td>\n    </tr>\n    <tr>\n      <th>1595</th>\n      <td>5.9</td>\n      <td>0.550</td>\n      <td>0.10</td>\n      <td>2.2</td>\n      <td>0.062</td>\n      <td>39.0</td>\n      <td>51.0</td>\n      <td>0.99512</td>\n      <td>3.52</td>\n      <td>0.76</td>\n      <td>11.2</td>\n      <td>6</td>\n      <td>red</td>\n    </tr>\n    <tr>\n      <th>1596</th>\n      <td>6.3</td>\n      <td>0.510</td>\n      <td>0.13</td>\n      <td>2.3</td>\n      <td>0.076</td>\n      <td>29.0</td>\n      <td>40.0</td>\n      <td>0.99574</td>\n      <td>3.42</td>\n      <td>0.75</td>\n      <td>11.0</td>\n      <td>6</td>\n      <td>red</td>\n    </tr>\n    <tr>\n      <th>1597</th>\n      <td>5.9</td>\n      <td>0.645</td>\n      <td>0.12</td>\n      <td>2.0</td>\n      <td>0.075</td>\n      <td>32.0</td>\n      <td>44.0</td>\n      <td>0.99547</td>\n      <td>3.57</td>\n      <td>0.71</td>\n      <td>10.2</td>\n      <td>5</td>\n      <td>red</td>\n    </tr>\n    <tr>\n      <th>1598</th>\n      <td>6.0</td>\n      <td>0.310</td>\n      <td>0.47</td>\n      <td>3.6</td>\n      <td>0.067</td>\n      <td>18.0</td>\n      <td>42.0</td>\n      <td>0.99549</td>\n      <td>3.39</td>\n      <td>0.66</td>\n      <td>11.0</td>\n      <td>6</td>\n      <td>red</td>\n    </tr>\n  </tbody>\n</table>\n<p>1599 rows × 13 columns</p>\n</div>"
     },
     "metadata": {},
     "execution_count": 61
    }
   ],
   "source": [
    "# creating new variables\n",
    "red_wine['wine_type'] = 'red'\n",
    "white_wine['wine_type'] = 'white'\n",
    "\n",
    "red_wine"
   ]
  },
  {
   "cell_type": "code",
   "execution_count": 62,
   "metadata": {},
   "outputs": [
    {
     "output_type": "execute_result",
     "data": {
      "text/plain": [
       "0       medium\n",
       "1       medium\n",
       "2       medium\n",
       "3       medium\n",
       "4       medium\n",
       "         ...  \n",
       "4893    medium\n",
       "4894       low\n",
       "4895    medium\n",
       "4896    medium\n",
       "4897    medium\n",
       "Name: quality_label, Length: 4898, dtype: object"
      ]
     },
     "metadata": {},
     "execution_count": 62
    }
   ],
   "source": [
    "# Wine quality labels\n",
    "red_wine['quality_label'] = red_wine['quality'].apply(lambda value: 'low'\n",
    "if value <= 5 else 'medium'\n",
    "if value <= 7 else 'high')\n",
    "\n",
    "white_wine['quality_label'] = white_wine['quality'].apply(lambda value: 'low'\n",
    "if value <= 5 else 'medium'\n",
    "if value <= 7 else 'high')\n",
    "\n",
    "white_wine['quality_label']"
   ]
  },
  {
   "cell_type": "code",
   "execution_count": 63,
   "metadata": {},
   "outputs": [
    {
     "output_type": "execute_result",
     "data": {
      "text/plain": [
       "      fixed acidity  volatile acidity  citric acid  residual sugar  chlorides  \\\n",
       "0               7.4              0.70         0.00             1.9      0.076   \n",
       "1               7.8              0.88         0.00             2.6      0.098   \n",
       "2               7.8              0.76         0.04             2.3      0.092   \n",
       "3              11.2              0.28         0.56             1.9      0.075   \n",
       "4               7.4              0.70         0.00             1.9      0.076   \n",
       "...             ...               ...          ...             ...        ...   \n",
       "4893            6.2              0.21         0.29             1.6      0.039   \n",
       "4894            6.6              0.32         0.36             8.0      0.047   \n",
       "4895            6.5              0.24         0.19             1.2      0.041   \n",
       "4896            5.5              0.29         0.30             1.1      0.022   \n",
       "4897            6.0              0.21         0.38             0.8      0.020   \n",
       "\n",
       "      free sulfur dioxide  total sulfur dioxide  density    pH  sulphates  \\\n",
       "0                    11.0                  34.0  0.99780  3.51       0.56   \n",
       "1                    25.0                  67.0  0.99680  3.20       0.68   \n",
       "2                    15.0                  54.0  0.99700  3.26       0.65   \n",
       "3                    17.0                  60.0  0.99800  3.16       0.58   \n",
       "4                    11.0                  34.0  0.99780  3.51       0.56   \n",
       "...                   ...                   ...      ...   ...        ...   \n",
       "4893                 24.0                  92.0  0.99114  3.27       0.50   \n",
       "4894                 57.0                 168.0  0.99490  3.15       0.46   \n",
       "4895                 30.0                 111.0  0.99254  2.99       0.46   \n",
       "4896                 20.0                 110.0  0.98869  3.34       0.38   \n",
       "4897                 22.0                  98.0  0.98941  3.26       0.32   \n",
       "\n",
       "      alcohol  quality wine_type quality_label  \n",
       "0         9.4        5       red           low  \n",
       "1         9.8        5       red           low  \n",
       "2         9.8        5       red           low  \n",
       "3         9.8        6       red        medium  \n",
       "4         9.4        5       red           low  \n",
       "...       ...      ...       ...           ...  \n",
       "4893     11.2        6     white        medium  \n",
       "4894      9.6        5     white           low  \n",
       "4895      9.4        6     white        medium  \n",
       "4896     12.8        7     white        medium  \n",
       "4897     11.8        6     white        medium  \n",
       "\n",
       "[6497 rows x 14 columns]"
      ],
      "text/html": "<div>\n<style scoped>\n    .dataframe tbody tr th:only-of-type {\n        vertical-align: middle;\n    }\n\n    .dataframe tbody tr th {\n        vertical-align: top;\n    }\n\n    .dataframe thead th {\n        text-align: right;\n    }\n</style>\n<table border=\"1\" class=\"dataframe\">\n  <thead>\n    <tr style=\"text-align: right;\">\n      <th></th>\n      <th>fixed acidity</th>\n      <th>volatile acidity</th>\n      <th>citric acid</th>\n      <th>residual sugar</th>\n      <th>chlorides</th>\n      <th>free sulfur dioxide</th>\n      <th>total sulfur dioxide</th>\n      <th>density</th>\n      <th>pH</th>\n      <th>sulphates</th>\n      <th>alcohol</th>\n      <th>quality</th>\n      <th>wine_type</th>\n      <th>quality_label</th>\n    </tr>\n  </thead>\n  <tbody>\n    <tr>\n      <th>0</th>\n      <td>7.4</td>\n      <td>0.70</td>\n      <td>0.00</td>\n      <td>1.9</td>\n      <td>0.076</td>\n      <td>11.0</td>\n      <td>34.0</td>\n      <td>0.99780</td>\n      <td>3.51</td>\n      <td>0.56</td>\n      <td>9.4</td>\n      <td>5</td>\n      <td>red</td>\n      <td>low</td>\n    </tr>\n    <tr>\n      <th>1</th>\n      <td>7.8</td>\n      <td>0.88</td>\n      <td>0.00</td>\n      <td>2.6</td>\n      <td>0.098</td>\n      <td>25.0</td>\n      <td>67.0</td>\n      <td>0.99680</td>\n      <td>3.20</td>\n      <td>0.68</td>\n      <td>9.8</td>\n      <td>5</td>\n      <td>red</td>\n      <td>low</td>\n    </tr>\n    <tr>\n      <th>2</th>\n      <td>7.8</td>\n      <td>0.76</td>\n      <td>0.04</td>\n      <td>2.3</td>\n      <td>0.092</td>\n      <td>15.0</td>\n      <td>54.0</td>\n      <td>0.99700</td>\n      <td>3.26</td>\n      <td>0.65</td>\n      <td>9.8</td>\n      <td>5</td>\n      <td>red</td>\n      <td>low</td>\n    </tr>\n    <tr>\n      <th>3</th>\n      <td>11.2</td>\n      <td>0.28</td>\n      <td>0.56</td>\n      <td>1.9</td>\n      <td>0.075</td>\n      <td>17.0</td>\n      <td>60.0</td>\n      <td>0.99800</td>\n      <td>3.16</td>\n      <td>0.58</td>\n      <td>9.8</td>\n      <td>6</td>\n      <td>red</td>\n      <td>medium</td>\n    </tr>\n    <tr>\n      <th>4</th>\n      <td>7.4</td>\n      <td>0.70</td>\n      <td>0.00</td>\n      <td>1.9</td>\n      <td>0.076</td>\n      <td>11.0</td>\n      <td>34.0</td>\n      <td>0.99780</td>\n      <td>3.51</td>\n      <td>0.56</td>\n      <td>9.4</td>\n      <td>5</td>\n      <td>red</td>\n      <td>low</td>\n    </tr>\n    <tr>\n      <th>...</th>\n      <td>...</td>\n      <td>...</td>\n      <td>...</td>\n      <td>...</td>\n      <td>...</td>\n      <td>...</td>\n      <td>...</td>\n      <td>...</td>\n      <td>...</td>\n      <td>...</td>\n      <td>...</td>\n      <td>...</td>\n      <td>...</td>\n      <td>...</td>\n    </tr>\n    <tr>\n      <th>4893</th>\n      <td>6.2</td>\n      <td>0.21</td>\n      <td>0.29</td>\n      <td>1.6</td>\n      <td>0.039</td>\n      <td>24.0</td>\n      <td>92.0</td>\n      <td>0.99114</td>\n      <td>3.27</td>\n      <td>0.50</td>\n      <td>11.2</td>\n      <td>6</td>\n      <td>white</td>\n      <td>medium</td>\n    </tr>\n    <tr>\n      <th>4894</th>\n      <td>6.6</td>\n      <td>0.32</td>\n      <td>0.36</td>\n      <td>8.0</td>\n      <td>0.047</td>\n      <td>57.0</td>\n      <td>168.0</td>\n      <td>0.99490</td>\n      <td>3.15</td>\n      <td>0.46</td>\n      <td>9.6</td>\n      <td>5</td>\n      <td>white</td>\n      <td>low</td>\n    </tr>\n    <tr>\n      <th>4895</th>\n      <td>6.5</td>\n      <td>0.24</td>\n      <td>0.19</td>\n      <td>1.2</td>\n      <td>0.041</td>\n      <td>30.0</td>\n      <td>111.0</td>\n      <td>0.99254</td>\n      <td>2.99</td>\n      <td>0.46</td>\n      <td>9.4</td>\n      <td>6</td>\n      <td>white</td>\n      <td>medium</td>\n    </tr>\n    <tr>\n      <th>4896</th>\n      <td>5.5</td>\n      <td>0.29</td>\n      <td>0.30</td>\n      <td>1.1</td>\n      <td>0.022</td>\n      <td>20.0</td>\n      <td>110.0</td>\n      <td>0.98869</td>\n      <td>3.34</td>\n      <td>0.38</td>\n      <td>12.8</td>\n      <td>7</td>\n      <td>white</td>\n      <td>medium</td>\n    </tr>\n    <tr>\n      <th>4897</th>\n      <td>6.0</td>\n      <td>0.21</td>\n      <td>0.38</td>\n      <td>0.8</td>\n      <td>0.020</td>\n      <td>22.0</td>\n      <td>98.0</td>\n      <td>0.98941</td>\n      <td>3.26</td>\n      <td>0.32</td>\n      <td>11.8</td>\n      <td>6</td>\n      <td>white</td>\n      <td>medium</td>\n    </tr>\n  </tbody>\n</table>\n<p>6497 rows × 14 columns</p>\n</div>"
     },
     "metadata": {},
     "execution_count": 63
    }
   ],
   "source": [
    "# joining both the wines.\n",
    "wines = pd.concat([red_wine, white_wine])\n",
    "\n",
    "wines"
   ]
  },
  {
   "cell_type": "code",
   "execution_count": 64,
   "metadata": {},
   "outputs": [
    {
     "output_type": "execute_result",
     "data": {
      "text/plain": [
       "      fixed acidity  volatile acidity  citric acid  residual sugar  chlorides  \\\n",
       "0               7.0              0.17         0.74           12.80      0.045   \n",
       "1               7.7              0.64         0.21            2.20      0.077   \n",
       "2               6.8              0.39         0.34            7.40      0.020   \n",
       "3               6.3              0.28         0.47           11.20      0.040   \n",
       "4               7.4              0.35         0.20           13.90      0.054   \n",
       "...             ...               ...          ...             ...        ...   \n",
       "6492            7.6              0.32         0.58           16.75      0.050   \n",
       "6493            5.6              0.28         0.27            3.90      0.043   \n",
       "6494            6.4              0.37         0.20            5.60      0.117   \n",
       "6495            6.5              0.26         0.50            8.00      0.051   \n",
       "6496            7.2              0.62         0.06            2.70      0.077   \n",
       "\n",
       "      free sulfur dioxide  total sulfur dioxide  density    pH  sulphates  \\\n",
       "0                    24.0                 126.0  0.99420  3.26       0.38   \n",
       "1                    32.0                 133.0  0.99560  3.27       0.45   \n",
       "2                    38.0                 133.0  0.99212  3.18       0.44   \n",
       "3                    61.0                 183.0  0.99592  3.12       0.51   \n",
       "4                    63.0                 229.0  0.99888  3.11       0.50   \n",
       "...                   ...                   ...      ...   ...        ...   \n",
       "6492                 43.0                 163.0  0.99990  3.15       0.54   \n",
       "6493                 52.0                 158.0  0.99202  3.35       0.44   \n",
       "6494                 61.0                 183.0  0.99459  3.24       0.43   \n",
       "6495                 46.0                 197.0  0.99536  3.18       0.47   \n",
       "6496                 15.0                  85.0  0.99746  3.51       0.54   \n",
       "\n",
       "      alcohol  quality wine_type quality_label  \n",
       "0        12.2        8     white          high  \n",
       "1         9.9        5       red           low  \n",
       "2        12.0        7     white        medium  \n",
       "3         9.5        6     white        medium  \n",
       "4         8.9        6     white        medium  \n",
       "...       ...      ...       ...           ...  \n",
       "6492      9.2        5     white           low  \n",
       "6493     10.7        7     white        medium  \n",
       "6494      9.5        5     white           low  \n",
       "6495      9.5        5     white           low  \n",
       "6496      9.5        5       red           low  \n",
       "\n",
       "[6497 rows x 14 columns]"
      ],
      "text/html": "<div>\n<style scoped>\n    .dataframe tbody tr th:only-of-type {\n        vertical-align: middle;\n    }\n\n    .dataframe tbody tr th {\n        vertical-align: top;\n    }\n\n    .dataframe thead th {\n        text-align: right;\n    }\n</style>\n<table border=\"1\" class=\"dataframe\">\n  <thead>\n    <tr style=\"text-align: right;\">\n      <th></th>\n      <th>fixed acidity</th>\n      <th>volatile acidity</th>\n      <th>citric acid</th>\n      <th>residual sugar</th>\n      <th>chlorides</th>\n      <th>free sulfur dioxide</th>\n      <th>total sulfur dioxide</th>\n      <th>density</th>\n      <th>pH</th>\n      <th>sulphates</th>\n      <th>alcohol</th>\n      <th>quality</th>\n      <th>wine_type</th>\n      <th>quality_label</th>\n    </tr>\n  </thead>\n  <tbody>\n    <tr>\n      <th>0</th>\n      <td>7.0</td>\n      <td>0.17</td>\n      <td>0.74</td>\n      <td>12.80</td>\n      <td>0.045</td>\n      <td>24.0</td>\n      <td>126.0</td>\n      <td>0.99420</td>\n      <td>3.26</td>\n      <td>0.38</td>\n      <td>12.2</td>\n      <td>8</td>\n      <td>white</td>\n      <td>high</td>\n    </tr>\n    <tr>\n      <th>1</th>\n      <td>7.7</td>\n      <td>0.64</td>\n      <td>0.21</td>\n      <td>2.20</td>\n      <td>0.077</td>\n      <td>32.0</td>\n      <td>133.0</td>\n      <td>0.99560</td>\n      <td>3.27</td>\n      <td>0.45</td>\n      <td>9.9</td>\n      <td>5</td>\n      <td>red</td>\n      <td>low</td>\n    </tr>\n    <tr>\n      <th>2</th>\n      <td>6.8</td>\n      <td>0.39</td>\n      <td>0.34</td>\n      <td>7.40</td>\n      <td>0.020</td>\n      <td>38.0</td>\n      <td>133.0</td>\n      <td>0.99212</td>\n      <td>3.18</td>\n      <td>0.44</td>\n      <td>12.0</td>\n      <td>7</td>\n      <td>white</td>\n      <td>medium</td>\n    </tr>\n    <tr>\n      <th>3</th>\n      <td>6.3</td>\n      <td>0.28</td>\n      <td>0.47</td>\n      <td>11.20</td>\n      <td>0.040</td>\n      <td>61.0</td>\n      <td>183.0</td>\n      <td>0.99592</td>\n      <td>3.12</td>\n      <td>0.51</td>\n      <td>9.5</td>\n      <td>6</td>\n      <td>white</td>\n      <td>medium</td>\n    </tr>\n    <tr>\n      <th>4</th>\n      <td>7.4</td>\n      <td>0.35</td>\n      <td>0.20</td>\n      <td>13.90</td>\n      <td>0.054</td>\n      <td>63.0</td>\n      <td>229.0</td>\n      <td>0.99888</td>\n      <td>3.11</td>\n      <td>0.50</td>\n      <td>8.9</td>\n      <td>6</td>\n      <td>white</td>\n      <td>medium</td>\n    </tr>\n    <tr>\n      <th>...</th>\n      <td>...</td>\n      <td>...</td>\n      <td>...</td>\n      <td>...</td>\n      <td>...</td>\n      <td>...</td>\n      <td>...</td>\n      <td>...</td>\n      <td>...</td>\n      <td>...</td>\n      <td>...</td>\n      <td>...</td>\n      <td>...</td>\n      <td>...</td>\n    </tr>\n    <tr>\n      <th>6492</th>\n      <td>7.6</td>\n      <td>0.32</td>\n      <td>0.58</td>\n      <td>16.75</td>\n      <td>0.050</td>\n      <td>43.0</td>\n      <td>163.0</td>\n      <td>0.99990</td>\n      <td>3.15</td>\n      <td>0.54</td>\n      <td>9.2</td>\n      <td>5</td>\n      <td>white</td>\n      <td>low</td>\n    </tr>\n    <tr>\n      <th>6493</th>\n      <td>5.6</td>\n      <td>0.28</td>\n      <td>0.27</td>\n      <td>3.90</td>\n      <td>0.043</td>\n      <td>52.0</td>\n      <td>158.0</td>\n      <td>0.99202</td>\n      <td>3.35</td>\n      <td>0.44</td>\n      <td>10.7</td>\n      <td>7</td>\n      <td>white</td>\n      <td>medium</td>\n    </tr>\n    <tr>\n      <th>6494</th>\n      <td>6.4</td>\n      <td>0.37</td>\n      <td>0.20</td>\n      <td>5.60</td>\n      <td>0.117</td>\n      <td>61.0</td>\n      <td>183.0</td>\n      <td>0.99459</td>\n      <td>3.24</td>\n      <td>0.43</td>\n      <td>9.5</td>\n      <td>5</td>\n      <td>white</td>\n      <td>low</td>\n    </tr>\n    <tr>\n      <th>6495</th>\n      <td>6.5</td>\n      <td>0.26</td>\n      <td>0.50</td>\n      <td>8.00</td>\n      <td>0.051</td>\n      <td>46.0</td>\n      <td>197.0</td>\n      <td>0.99536</td>\n      <td>3.18</td>\n      <td>0.47</td>\n      <td>9.5</td>\n      <td>5</td>\n      <td>white</td>\n      <td>low</td>\n    </tr>\n    <tr>\n      <th>6496</th>\n      <td>7.2</td>\n      <td>0.62</td>\n      <td>0.06</td>\n      <td>2.70</td>\n      <td>0.077</td>\n      <td>15.0</td>\n      <td>85.0</td>\n      <td>0.99746</td>\n      <td>3.51</td>\n      <td>0.54</td>\n      <td>9.5</td>\n      <td>5</td>\n      <td>red</td>\n      <td>low</td>\n    </tr>\n  </tbody>\n</table>\n<p>6497 rows × 14 columns</p>\n</div>"
     },
     "metadata": {},
     "execution_count": 64
    }
   ],
   "source": [
    "# reschuffel\n",
    "wines = wines.sample(frac=1, random_state=42).reset_index(drop=True)\n",
    "wines"
   ]
  },
  {
   "cell_type": "code",
   "execution_count": 65,
   "metadata": {},
   "outputs": [
    {
     "output_type": "execute_result",
     "data": {
      "text/plain": [
       "      fixed acidity  volatile acidity  citric acid  residual sugar  chlorides  \\\n",
       "0               7.0              0.17         0.74           12.80      0.045   \n",
       "1               7.7              0.64         0.21            2.20      0.077   \n",
       "2               6.8              0.39         0.34            7.40      0.020   \n",
       "3               6.3              0.28         0.47           11.20      0.040   \n",
       "4               7.4              0.35         0.20           13.90      0.054   \n",
       "...             ...               ...          ...             ...        ...   \n",
       "6492            7.6              0.32         0.58           16.75      0.050   \n",
       "6493            5.6              0.28         0.27            3.90      0.043   \n",
       "6494            6.4              0.37         0.20            5.60      0.117   \n",
       "6495            6.5              0.26         0.50            8.00      0.051   \n",
       "6496            7.2              0.62         0.06            2.70      0.077   \n",
       "\n",
       "      free sulfur dioxide  total sulfur dioxide  density    pH  sulphates  \\\n",
       "0                    24.0                 126.0  0.99420  3.26       0.38   \n",
       "1                    32.0                 133.0  0.99560  3.27       0.45   \n",
       "2                    38.0                 133.0  0.99212  3.18       0.44   \n",
       "3                    61.0                 183.0  0.99592  3.12       0.51   \n",
       "4                    63.0                 229.0  0.99888  3.11       0.50   \n",
       "...                   ...                   ...      ...   ...        ...   \n",
       "6492                 43.0                 163.0  0.99990  3.15       0.54   \n",
       "6493                 52.0                 158.0  0.99202  3.35       0.44   \n",
       "6494                 61.0                 183.0  0.99459  3.24       0.43   \n",
       "6495                 46.0                 197.0  0.99536  3.18       0.47   \n",
       "6496                 15.0                  85.0  0.99746  3.51       0.54   \n",
       "\n",
       "      alcohol  quality wine_type quality_label  \n",
       "0        12.2        8     white          high  \n",
       "1         9.9        5       red           low  \n",
       "2        12.0        7     white        medium  \n",
       "3         9.5        6     white        medium  \n",
       "4         8.9        6     white        medium  \n",
       "...       ...      ...       ...           ...  \n",
       "6492      9.2        5     white           low  \n",
       "6493     10.7        7     white        medium  \n",
       "6494      9.5        5     white           low  \n",
       "6495      9.5        5     white           low  \n",
       "6496      9.5        5       red           low  \n",
       "\n",
       "[6497 rows x 14 columns]"
      ],
      "text/html": "<div>\n<style scoped>\n    .dataframe tbody tr th:only-of-type {\n        vertical-align: middle;\n    }\n\n    .dataframe tbody tr th {\n        vertical-align: top;\n    }\n\n    .dataframe thead th {\n        text-align: right;\n    }\n</style>\n<table border=\"1\" class=\"dataframe\">\n  <thead>\n    <tr style=\"text-align: right;\">\n      <th></th>\n      <th>fixed acidity</th>\n      <th>volatile acidity</th>\n      <th>citric acid</th>\n      <th>residual sugar</th>\n      <th>chlorides</th>\n      <th>free sulfur dioxide</th>\n      <th>total sulfur dioxide</th>\n      <th>density</th>\n      <th>pH</th>\n      <th>sulphates</th>\n      <th>alcohol</th>\n      <th>quality</th>\n      <th>wine_type</th>\n      <th>quality_label</th>\n    </tr>\n  </thead>\n  <tbody>\n    <tr>\n      <th>0</th>\n      <td>7.0</td>\n      <td>0.17</td>\n      <td>0.74</td>\n      <td>12.80</td>\n      <td>0.045</td>\n      <td>24.0</td>\n      <td>126.0</td>\n      <td>0.99420</td>\n      <td>3.26</td>\n      <td>0.38</td>\n      <td>12.2</td>\n      <td>8</td>\n      <td>white</td>\n      <td>high</td>\n    </tr>\n    <tr>\n      <th>1</th>\n      <td>7.7</td>\n      <td>0.64</td>\n      <td>0.21</td>\n      <td>2.20</td>\n      <td>0.077</td>\n      <td>32.0</td>\n      <td>133.0</td>\n      <td>0.99560</td>\n      <td>3.27</td>\n      <td>0.45</td>\n      <td>9.9</td>\n      <td>5</td>\n      <td>red</td>\n      <td>low</td>\n    </tr>\n    <tr>\n      <th>2</th>\n      <td>6.8</td>\n      <td>0.39</td>\n      <td>0.34</td>\n      <td>7.40</td>\n      <td>0.020</td>\n      <td>38.0</td>\n      <td>133.0</td>\n      <td>0.99212</td>\n      <td>3.18</td>\n      <td>0.44</td>\n      <td>12.0</td>\n      <td>7</td>\n      <td>white</td>\n      <td>medium</td>\n    </tr>\n    <tr>\n      <th>3</th>\n      <td>6.3</td>\n      <td>0.28</td>\n      <td>0.47</td>\n      <td>11.20</td>\n      <td>0.040</td>\n      <td>61.0</td>\n      <td>183.0</td>\n      <td>0.99592</td>\n      <td>3.12</td>\n      <td>0.51</td>\n      <td>9.5</td>\n      <td>6</td>\n      <td>white</td>\n      <td>medium</td>\n    </tr>\n    <tr>\n      <th>4</th>\n      <td>7.4</td>\n      <td>0.35</td>\n      <td>0.20</td>\n      <td>13.90</td>\n      <td>0.054</td>\n      <td>63.0</td>\n      <td>229.0</td>\n      <td>0.99888</td>\n      <td>3.11</td>\n      <td>0.50</td>\n      <td>8.9</td>\n      <td>6</td>\n      <td>white</td>\n      <td>medium</td>\n    </tr>\n    <tr>\n      <th>...</th>\n      <td>...</td>\n      <td>...</td>\n      <td>...</td>\n      <td>...</td>\n      <td>...</td>\n      <td>...</td>\n      <td>...</td>\n      <td>...</td>\n      <td>...</td>\n      <td>...</td>\n      <td>...</td>\n      <td>...</td>\n      <td>...</td>\n      <td>...</td>\n    </tr>\n    <tr>\n      <th>6492</th>\n      <td>7.6</td>\n      <td>0.32</td>\n      <td>0.58</td>\n      <td>16.75</td>\n      <td>0.050</td>\n      <td>43.0</td>\n      <td>163.0</td>\n      <td>0.99990</td>\n      <td>3.15</td>\n      <td>0.54</td>\n      <td>9.2</td>\n      <td>5</td>\n      <td>white</td>\n      <td>low</td>\n    </tr>\n    <tr>\n      <th>6493</th>\n      <td>5.6</td>\n      <td>0.28</td>\n      <td>0.27</td>\n      <td>3.90</td>\n      <td>0.043</td>\n      <td>52.0</td>\n      <td>158.0</td>\n      <td>0.99202</td>\n      <td>3.35</td>\n      <td>0.44</td>\n      <td>10.7</td>\n      <td>7</td>\n      <td>white</td>\n      <td>medium</td>\n    </tr>\n    <tr>\n      <th>6494</th>\n      <td>6.4</td>\n      <td>0.37</td>\n      <td>0.20</td>\n      <td>5.60</td>\n      <td>0.117</td>\n      <td>61.0</td>\n      <td>183.0</td>\n      <td>0.99459</td>\n      <td>3.24</td>\n      <td>0.43</td>\n      <td>9.5</td>\n      <td>5</td>\n      <td>white</td>\n      <td>low</td>\n    </tr>\n    <tr>\n      <th>6495</th>\n      <td>6.5</td>\n      <td>0.26</td>\n      <td>0.50</td>\n      <td>8.00</td>\n      <td>0.051</td>\n      <td>46.0</td>\n      <td>197.0</td>\n      <td>0.99536</td>\n      <td>3.18</td>\n      <td>0.47</td>\n      <td>9.5</td>\n      <td>5</td>\n      <td>white</td>\n      <td>low</td>\n    </tr>\n    <tr>\n      <th>6496</th>\n      <td>7.2</td>\n      <td>0.62</td>\n      <td>0.06</td>\n      <td>2.70</td>\n      <td>0.077</td>\n      <td>15.0</td>\n      <td>85.0</td>\n      <td>0.99746</td>\n      <td>3.51</td>\n      <td>0.54</td>\n      <td>9.5</td>\n      <td>5</td>\n      <td>red</td>\n      <td>low</td>\n    </tr>\n  </tbody>\n</table>\n<p>6497 rows × 14 columns</p>\n</div>"
     },
     "metadata": {},
     "execution_count": 65
    }
   ],
   "source": [
    "wines"
   ]
  },
  {
   "cell_type": "code",
   "execution_count": 66,
   "metadata": {},
   "outputs": [
    {
     "output_type": "execute_result",
     "data": {
      "text/plain": [
       "   fixed acidity  volatile acidity  citric acid  residual sugar  chlorides  \\\n",
       "0            7.0              0.17         0.74            12.8      0.045   \n",
       "1            7.7              0.64         0.21             2.2      0.077   \n",
       "2            6.8              0.39         0.34             7.4      0.020   \n",
       "3            6.3              0.28         0.47            11.2      0.040   \n",
       "4            7.4              0.35         0.20            13.9      0.054   \n",
       "5            7.2              0.53         0.14             2.1      0.064   \n",
       "6            7.5              0.27         0.31            17.7      0.051   \n",
       "7            6.8              0.11         0.27             8.6      0.044   \n",
       "8            9.0              0.44         0.49             2.4      0.078   \n",
       "9            7.1              0.23         0.30             2.6      0.034   \n",
       "\n",
       "   free sulfur dioxide  total sulfur dioxide  density    pH  sulphates  \\\n",
       "0                 24.0                 126.0  0.99420  3.26       0.38   \n",
       "1                 32.0                 133.0  0.99560  3.27       0.45   \n",
       "2                 38.0                 133.0  0.99212  3.18       0.44   \n",
       "3                 61.0                 183.0  0.99592  3.12       0.51   \n",
       "4                 63.0                 229.0  0.99888  3.11       0.50   \n",
       "5                 15.0                  29.0  0.99323  3.35       0.61   \n",
       "6                 33.0                 173.0  0.99900  3.09       0.64   \n",
       "7                 45.0                 104.0  0.99454  3.20       0.37   \n",
       "8                 26.0                 121.0  0.99780  3.23       0.58   \n",
       "9                 62.0                 148.0  0.99121  3.03       0.56   \n",
       "\n",
       "   alcohol  quality wine_type quality_label  \n",
       "0     12.2        8     white          high  \n",
       "1      9.9        5       red           low  \n",
       "2     12.0        7     white        medium  \n",
       "3      9.5        6     white        medium  \n",
       "4      8.9        6     white        medium  \n",
       "5     12.1        6       red        medium  \n",
       "6     10.2        5     white           low  \n",
       "7      9.9        6     white        medium  \n",
       "8      9.2        5       red           low  \n",
       "9     11.3        7     white        medium  "
      ],
      "text/html": "<div>\n<style scoped>\n    .dataframe tbody tr th:only-of-type {\n        vertical-align: middle;\n    }\n\n    .dataframe tbody tr th {\n        vertical-align: top;\n    }\n\n    .dataframe thead th {\n        text-align: right;\n    }\n</style>\n<table border=\"1\" class=\"dataframe\">\n  <thead>\n    <tr style=\"text-align: right;\">\n      <th></th>\n      <th>fixed acidity</th>\n      <th>volatile acidity</th>\n      <th>citric acid</th>\n      <th>residual sugar</th>\n      <th>chlorides</th>\n      <th>free sulfur dioxide</th>\n      <th>total sulfur dioxide</th>\n      <th>density</th>\n      <th>pH</th>\n      <th>sulphates</th>\n      <th>alcohol</th>\n      <th>quality</th>\n      <th>wine_type</th>\n      <th>quality_label</th>\n    </tr>\n  </thead>\n  <tbody>\n    <tr>\n      <th>0</th>\n      <td>7.0</td>\n      <td>0.17</td>\n      <td>0.74</td>\n      <td>12.8</td>\n      <td>0.045</td>\n      <td>24.0</td>\n      <td>126.0</td>\n      <td>0.99420</td>\n      <td>3.26</td>\n      <td>0.38</td>\n      <td>12.2</td>\n      <td>8</td>\n      <td>white</td>\n      <td>high</td>\n    </tr>\n    <tr>\n      <th>1</th>\n      <td>7.7</td>\n      <td>0.64</td>\n      <td>0.21</td>\n      <td>2.2</td>\n      <td>0.077</td>\n      <td>32.0</td>\n      <td>133.0</td>\n      <td>0.99560</td>\n      <td>3.27</td>\n      <td>0.45</td>\n      <td>9.9</td>\n      <td>5</td>\n      <td>red</td>\n      <td>low</td>\n    </tr>\n    <tr>\n      <th>2</th>\n      <td>6.8</td>\n      <td>0.39</td>\n      <td>0.34</td>\n      <td>7.4</td>\n      <td>0.020</td>\n      <td>38.0</td>\n      <td>133.0</td>\n      <td>0.99212</td>\n      <td>3.18</td>\n      <td>0.44</td>\n      <td>12.0</td>\n      <td>7</td>\n      <td>white</td>\n      <td>medium</td>\n    </tr>\n    <tr>\n      <th>3</th>\n      <td>6.3</td>\n      <td>0.28</td>\n      <td>0.47</td>\n      <td>11.2</td>\n      <td>0.040</td>\n      <td>61.0</td>\n      <td>183.0</td>\n      <td>0.99592</td>\n      <td>3.12</td>\n      <td>0.51</td>\n      <td>9.5</td>\n      <td>6</td>\n      <td>white</td>\n      <td>medium</td>\n    </tr>\n    <tr>\n      <th>4</th>\n      <td>7.4</td>\n      <td>0.35</td>\n      <td>0.20</td>\n      <td>13.9</td>\n      <td>0.054</td>\n      <td>63.0</td>\n      <td>229.0</td>\n      <td>0.99888</td>\n      <td>3.11</td>\n      <td>0.50</td>\n      <td>8.9</td>\n      <td>6</td>\n      <td>white</td>\n      <td>medium</td>\n    </tr>\n    <tr>\n      <th>5</th>\n      <td>7.2</td>\n      <td>0.53</td>\n      <td>0.14</td>\n      <td>2.1</td>\n      <td>0.064</td>\n      <td>15.0</td>\n      <td>29.0</td>\n      <td>0.99323</td>\n      <td>3.35</td>\n      <td>0.61</td>\n      <td>12.1</td>\n      <td>6</td>\n      <td>red</td>\n      <td>medium</td>\n    </tr>\n    <tr>\n      <th>6</th>\n      <td>7.5</td>\n      <td>0.27</td>\n      <td>0.31</td>\n      <td>17.7</td>\n      <td>0.051</td>\n      <td>33.0</td>\n      <td>173.0</td>\n      <td>0.99900</td>\n      <td>3.09</td>\n      <td>0.64</td>\n      <td>10.2</td>\n      <td>5</td>\n      <td>white</td>\n      <td>low</td>\n    </tr>\n    <tr>\n      <th>7</th>\n      <td>6.8</td>\n      <td>0.11</td>\n      <td>0.27</td>\n      <td>8.6</td>\n      <td>0.044</td>\n      <td>45.0</td>\n      <td>104.0</td>\n      <td>0.99454</td>\n      <td>3.20</td>\n      <td>0.37</td>\n      <td>9.9</td>\n      <td>6</td>\n      <td>white</td>\n      <td>medium</td>\n    </tr>\n    <tr>\n      <th>8</th>\n      <td>9.0</td>\n      <td>0.44</td>\n      <td>0.49</td>\n      <td>2.4</td>\n      <td>0.078</td>\n      <td>26.0</td>\n      <td>121.0</td>\n      <td>0.99780</td>\n      <td>3.23</td>\n      <td>0.58</td>\n      <td>9.2</td>\n      <td>5</td>\n      <td>red</td>\n      <td>low</td>\n    </tr>\n    <tr>\n      <th>9</th>\n      <td>7.1</td>\n      <td>0.23</td>\n      <td>0.30</td>\n      <td>2.6</td>\n      <td>0.034</td>\n      <td>62.0</td>\n      <td>148.0</td>\n      <td>0.99121</td>\n      <td>3.03</td>\n      <td>0.56</td>\n      <td>11.3</td>\n      <td>7</td>\n      <td>white</td>\n      <td>medium</td>\n    </tr>\n  </tbody>\n</table>\n</div>"
     },
     "metadata": {},
     "execution_count": 66
    }
   ],
   "source": [
    "# First 10 Records\n",
    "wines.head(10)"
   ]
  },
  {
   "cell_type": "code",
   "execution_count": 67,
   "metadata": {},
   "outputs": [
    {
     "output_type": "execute_result",
     "data": {
      "text/plain": [
       "      fixed acidity  volatile acidity  citric acid  residual sugar  chlorides  \\\n",
       "6487            6.1              0.22         0.46            1.80      0.160   \n",
       "6488           10.3              0.50         0.42            2.00      0.069   \n",
       "6489            6.4              0.31         0.53            8.80      0.057   \n",
       "6490            5.9              0.26         0.24            2.40      0.046   \n",
       "6491            8.0              0.34         0.49            9.00      0.033   \n",
       "6492            7.6              0.32         0.58           16.75      0.050   \n",
       "6493            5.6              0.28         0.27            3.90      0.043   \n",
       "6494            6.4              0.37         0.20            5.60      0.117   \n",
       "6495            6.5              0.26         0.50            8.00      0.051   \n",
       "6496            7.2              0.62         0.06            2.70      0.077   \n",
       "\n",
       "      free sulfur dioxide  total sulfur dioxide  density    pH  sulphates  \\\n",
       "6487                 34.0                  74.0  0.98840  3.19       0.33   \n",
       "6488                 21.0                  51.0  0.99820  3.16       0.72   \n",
       "6489                 36.0                 221.0  0.99642  3.17       0.44   \n",
       "6490                 27.0                 132.0  0.99234  3.63       0.73   \n",
       "6491                 39.0                 180.0  0.99360  3.13       0.38   \n",
       "6492                 43.0                 163.0  0.99990  3.15       0.54   \n",
       "6493                 52.0                 158.0  0.99202  3.35       0.44   \n",
       "6494                 61.0                 183.0  0.99459  3.24       0.43   \n",
       "6495                 46.0                 197.0  0.99536  3.18       0.47   \n",
       "6496                 15.0                  85.0  0.99746  3.51       0.54   \n",
       "\n",
       "      alcohol  quality wine_type quality_label  \n",
       "6487     13.4        6     white        medium  \n",
       "6488     11.5        6       red        medium  \n",
       "6489      9.1        5     white           low  \n",
       "6490     11.3        5     white           low  \n",
       "6491     12.3        8     white          high  \n",
       "6492      9.2        5     white           low  \n",
       "6493     10.7        7     white        medium  \n",
       "6494      9.5        5     white           low  \n",
       "6495      9.5        5     white           low  \n",
       "6496      9.5        5       red           low  "
      ],
      "text/html": "<div>\n<style scoped>\n    .dataframe tbody tr th:only-of-type {\n        vertical-align: middle;\n    }\n\n    .dataframe tbody tr th {\n        vertical-align: top;\n    }\n\n    .dataframe thead th {\n        text-align: right;\n    }\n</style>\n<table border=\"1\" class=\"dataframe\">\n  <thead>\n    <tr style=\"text-align: right;\">\n      <th></th>\n      <th>fixed acidity</th>\n      <th>volatile acidity</th>\n      <th>citric acid</th>\n      <th>residual sugar</th>\n      <th>chlorides</th>\n      <th>free sulfur dioxide</th>\n      <th>total sulfur dioxide</th>\n      <th>density</th>\n      <th>pH</th>\n      <th>sulphates</th>\n      <th>alcohol</th>\n      <th>quality</th>\n      <th>wine_type</th>\n      <th>quality_label</th>\n    </tr>\n  </thead>\n  <tbody>\n    <tr>\n      <th>6487</th>\n      <td>6.1</td>\n      <td>0.22</td>\n      <td>0.46</td>\n      <td>1.80</td>\n      <td>0.160</td>\n      <td>34.0</td>\n      <td>74.0</td>\n      <td>0.98840</td>\n      <td>3.19</td>\n      <td>0.33</td>\n      <td>13.4</td>\n      <td>6</td>\n      <td>white</td>\n      <td>medium</td>\n    </tr>\n    <tr>\n      <th>6488</th>\n      <td>10.3</td>\n      <td>0.50</td>\n      <td>0.42</td>\n      <td>2.00</td>\n      <td>0.069</td>\n      <td>21.0</td>\n      <td>51.0</td>\n      <td>0.99820</td>\n      <td>3.16</td>\n      <td>0.72</td>\n      <td>11.5</td>\n      <td>6</td>\n      <td>red</td>\n      <td>medium</td>\n    </tr>\n    <tr>\n      <th>6489</th>\n      <td>6.4</td>\n      <td>0.31</td>\n      <td>0.53</td>\n      <td>8.80</td>\n      <td>0.057</td>\n      <td>36.0</td>\n      <td>221.0</td>\n      <td>0.99642</td>\n      <td>3.17</td>\n      <td>0.44</td>\n      <td>9.1</td>\n      <td>5</td>\n      <td>white</td>\n      <td>low</td>\n    </tr>\n    <tr>\n      <th>6490</th>\n      <td>5.9</td>\n      <td>0.26</td>\n      <td>0.24</td>\n      <td>2.40</td>\n      <td>0.046</td>\n      <td>27.0</td>\n      <td>132.0</td>\n      <td>0.99234</td>\n      <td>3.63</td>\n      <td>0.73</td>\n      <td>11.3</td>\n      <td>5</td>\n      <td>white</td>\n      <td>low</td>\n    </tr>\n    <tr>\n      <th>6491</th>\n      <td>8.0</td>\n      <td>0.34</td>\n      <td>0.49</td>\n      <td>9.00</td>\n      <td>0.033</td>\n      <td>39.0</td>\n      <td>180.0</td>\n      <td>0.99360</td>\n      <td>3.13</td>\n      <td>0.38</td>\n      <td>12.3</td>\n      <td>8</td>\n      <td>white</td>\n      <td>high</td>\n    </tr>\n    <tr>\n      <th>6492</th>\n      <td>7.6</td>\n      <td>0.32</td>\n      <td>0.58</td>\n      <td>16.75</td>\n      <td>0.050</td>\n      <td>43.0</td>\n      <td>163.0</td>\n      <td>0.99990</td>\n      <td>3.15</td>\n      <td>0.54</td>\n      <td>9.2</td>\n      <td>5</td>\n      <td>white</td>\n      <td>low</td>\n    </tr>\n    <tr>\n      <th>6493</th>\n      <td>5.6</td>\n      <td>0.28</td>\n      <td>0.27</td>\n      <td>3.90</td>\n      <td>0.043</td>\n      <td>52.0</td>\n      <td>158.0</td>\n      <td>0.99202</td>\n      <td>3.35</td>\n      <td>0.44</td>\n      <td>10.7</td>\n      <td>7</td>\n      <td>white</td>\n      <td>medium</td>\n    </tr>\n    <tr>\n      <th>6494</th>\n      <td>6.4</td>\n      <td>0.37</td>\n      <td>0.20</td>\n      <td>5.60</td>\n      <td>0.117</td>\n      <td>61.0</td>\n      <td>183.0</td>\n      <td>0.99459</td>\n      <td>3.24</td>\n      <td>0.43</td>\n      <td>9.5</td>\n      <td>5</td>\n      <td>white</td>\n      <td>low</td>\n    </tr>\n    <tr>\n      <th>6495</th>\n      <td>6.5</td>\n      <td>0.26</td>\n      <td>0.50</td>\n      <td>8.00</td>\n      <td>0.051</td>\n      <td>46.0</td>\n      <td>197.0</td>\n      <td>0.99536</td>\n      <td>3.18</td>\n      <td>0.47</td>\n      <td>9.5</td>\n      <td>5</td>\n      <td>white</td>\n      <td>low</td>\n    </tr>\n    <tr>\n      <th>6496</th>\n      <td>7.2</td>\n      <td>0.62</td>\n      <td>0.06</td>\n      <td>2.70</td>\n      <td>0.077</td>\n      <td>15.0</td>\n      <td>85.0</td>\n      <td>0.99746</td>\n      <td>3.51</td>\n      <td>0.54</td>\n      <td>9.5</td>\n      <td>5</td>\n      <td>red</td>\n      <td>low</td>\n    </tr>\n  </tbody>\n</table>\n</div>"
     },
     "metadata": {},
     "execution_count": 67
    }
   ],
   "source": [
    "#last 10 records\n",
    "wines.tail(10)"
   ]
  },
  {
   "cell_type": "code",
   "execution_count": 68,
   "metadata": {},
   "outputs": [
    {
     "output_type": "execute_result",
     "data": {
      "text/plain": [
       "<bound method DataFrame.info of       fixed acidity  volatile acidity  citric acid  residual sugar  chlorides  \\\n",
       "0               7.0              0.27         0.36            20.7      0.045   \n",
       "1               6.3              0.30         0.34             1.6      0.049   \n",
       "2               8.1              0.28         0.40             6.9      0.050   \n",
       "3               7.2              0.23         0.32             8.5      0.058   \n",
       "4               7.2              0.23         0.32             8.5      0.058   \n",
       "...             ...               ...          ...             ...        ...   \n",
       "4893            6.2              0.21         0.29             1.6      0.039   \n",
       "4894            6.6              0.32         0.36             8.0      0.047   \n",
       "4895            6.5              0.24         0.19             1.2      0.041   \n",
       "4896            5.5              0.29         0.30             1.1      0.022   \n",
       "4897            6.0              0.21         0.38             0.8      0.020   \n",
       "\n",
       "      free sulfur dioxide  total sulfur dioxide  density    pH  sulphates  \\\n",
       "0                    45.0                 170.0  1.00100  3.00       0.45   \n",
       "1                    14.0                 132.0  0.99400  3.30       0.49   \n",
       "2                    30.0                  97.0  0.99510  3.26       0.44   \n",
       "3                    47.0                 186.0  0.99560  3.19       0.40   \n",
       "4                    47.0                 186.0  0.99560  3.19       0.40   \n",
       "...                   ...                   ...      ...   ...        ...   \n",
       "4893                 24.0                  92.0  0.99114  3.27       0.50   \n",
       "4894                 57.0                 168.0  0.99490  3.15       0.46   \n",
       "4895                 30.0                 111.0  0.99254  2.99       0.46   \n",
       "4896                 20.0                 110.0  0.98869  3.34       0.38   \n",
       "4897                 22.0                  98.0  0.98941  3.26       0.32   \n",
       "\n",
       "      alcohol  quality wine_type quality_label  \n",
       "0         8.8        6     white        medium  \n",
       "1         9.5        6     white        medium  \n",
       "2        10.1        6     white        medium  \n",
       "3         9.9        6     white        medium  \n",
       "4         9.9        6     white        medium  \n",
       "...       ...      ...       ...           ...  \n",
       "4893     11.2        6     white        medium  \n",
       "4894      9.6        5     white           low  \n",
       "4895      9.4        6     white        medium  \n",
       "4896     12.8        7     white        medium  \n",
       "4897     11.8        6     white        medium  \n",
       "\n",
       "[4898 rows x 14 columns]>"
      ]
     },
     "metadata": {},
     "execution_count": 68
    }
   ],
   "source": [
    "# Getting about the wines\n",
    "red_wine.info\n",
    "white_wine.info"
   ]
  },
  {
   "cell_type": "code",
   "execution_count": 69,
   "metadata": {},
   "outputs": [
    {
     "output_type": "execute_result",
     "data": {
      "text/plain": [
       "(6497, 14)"
      ]
     },
     "metadata": {},
     "execution_count": 69
    }
   ],
   "source": [
    "# Finding  the shape of the data frame\n",
    "wines.shape"
   ]
  },
  {
   "cell_type": "code",
   "execution_count": 70,
   "metadata": {},
   "outputs": [
    {
     "output_type": "execute_result",
     "data": {
      "text/plain": [
       "<bound method DataFrame.isna of       fixed acidity  volatile acidity  citric acid  residual sugar  chlorides  \\\n",
       "0               7.4             0.700         0.00             1.9      0.076   \n",
       "1               7.8             0.880         0.00             2.6      0.098   \n",
       "2               7.8             0.760         0.04             2.3      0.092   \n",
       "3              11.2             0.280         0.56             1.9      0.075   \n",
       "4               7.4             0.700         0.00             1.9      0.076   \n",
       "...             ...               ...          ...             ...        ...   \n",
       "1594            6.2             0.600         0.08             2.0      0.090   \n",
       "1595            5.9             0.550         0.10             2.2      0.062   \n",
       "1596            6.3             0.510         0.13             2.3      0.076   \n",
       "1597            5.9             0.645         0.12             2.0      0.075   \n",
       "1598            6.0             0.310         0.47             3.6      0.067   \n",
       "\n",
       "      free sulfur dioxide  total sulfur dioxide  density    pH  sulphates  \\\n",
       "0                    11.0                  34.0  0.99780  3.51       0.56   \n",
       "1                    25.0                  67.0  0.99680  3.20       0.68   \n",
       "2                    15.0                  54.0  0.99700  3.26       0.65   \n",
       "3                    17.0                  60.0  0.99800  3.16       0.58   \n",
       "4                    11.0                  34.0  0.99780  3.51       0.56   \n",
       "...                   ...                   ...      ...   ...        ...   \n",
       "1594                 32.0                  44.0  0.99490  3.45       0.58   \n",
       "1595                 39.0                  51.0  0.99512  3.52       0.76   \n",
       "1596                 29.0                  40.0  0.99574  3.42       0.75   \n",
       "1597                 32.0                  44.0  0.99547  3.57       0.71   \n",
       "1598                 18.0                  42.0  0.99549  3.39       0.66   \n",
       "\n",
       "      alcohol  quality wine_type quality_label  \n",
       "0         9.4        5       red           low  \n",
       "1         9.8        5       red           low  \n",
       "2         9.8        5       red           low  \n",
       "3         9.8        6       red        medium  \n",
       "4         9.4        5       red           low  \n",
       "...       ...      ...       ...           ...  \n",
       "1594     10.5        5       red           low  \n",
       "1595     11.2        6       red        medium  \n",
       "1596     11.0        6       red        medium  \n",
       "1597     10.2        5       red           low  \n",
       "1598     11.0        6       red        medium  \n",
       "\n",
       "[1599 rows x 14 columns]>"
      ]
     },
     "metadata": {},
     "execution_count": 70
    }
   ],
   "source": [
    "# Finding missing values\n",
    "red_wine.isna"
   ]
  },
  {
   "cell_type": "code",
   "execution_count": 71,
   "metadata": {},
   "outputs": [
    {
     "output_type": "execute_result",
     "data": {
      "text/plain": [
       "<bound method DataFrame.notna of       fixed acidity  volatile acidity  citric acid  residual sugar  chlorides  \\\n",
       "0               7.0              0.27         0.36            20.7      0.045   \n",
       "1               6.3              0.30         0.34             1.6      0.049   \n",
       "2               8.1              0.28         0.40             6.9      0.050   \n",
       "3               7.2              0.23         0.32             8.5      0.058   \n",
       "4               7.2              0.23         0.32             8.5      0.058   \n",
       "...             ...               ...          ...             ...        ...   \n",
       "4893            6.2              0.21         0.29             1.6      0.039   \n",
       "4894            6.6              0.32         0.36             8.0      0.047   \n",
       "4895            6.5              0.24         0.19             1.2      0.041   \n",
       "4896            5.5              0.29         0.30             1.1      0.022   \n",
       "4897            6.0              0.21         0.38             0.8      0.020   \n",
       "\n",
       "      free sulfur dioxide  total sulfur dioxide  density    pH  sulphates  \\\n",
       "0                    45.0                 170.0  1.00100  3.00       0.45   \n",
       "1                    14.0                 132.0  0.99400  3.30       0.49   \n",
       "2                    30.0                  97.0  0.99510  3.26       0.44   \n",
       "3                    47.0                 186.0  0.99560  3.19       0.40   \n",
       "4                    47.0                 186.0  0.99560  3.19       0.40   \n",
       "...                   ...                   ...      ...   ...        ...   \n",
       "4893                 24.0                  92.0  0.99114  3.27       0.50   \n",
       "4894                 57.0                 168.0  0.99490  3.15       0.46   \n",
       "4895                 30.0                 111.0  0.99254  2.99       0.46   \n",
       "4896                 20.0                 110.0  0.98869  3.34       0.38   \n",
       "4897                 22.0                  98.0  0.98941  3.26       0.32   \n",
       "\n",
       "      alcohol  quality wine_type quality_label  \n",
       "0         8.8        6     white        medium  \n",
       "1         9.5        6     white        medium  \n",
       "2        10.1        6     white        medium  \n",
       "3         9.9        6     white        medium  \n",
       "4         9.9        6     white        medium  \n",
       "...       ...      ...       ...           ...  \n",
       "4893     11.2        6     white        medium  \n",
       "4894      9.6        5     white           low  \n",
       "4895      9.4        6     white        medium  \n",
       "4896     12.8        7     white        medium  \n",
       "4897     11.8        6     white        medium  \n",
       "\n",
       "[4898 rows x 14 columns]>"
      ]
     },
     "metadata": {},
     "execution_count": 71
    }
   ],
   "source": [
    "white_wine.notna"
   ]
  },
  {
   "cell_type": "code",
   "execution_count": 72,
   "metadata": {},
   "outputs": [
    {
     "output_type": "execute_result",
     "data": {
      "text/plain": [
       "<bound method NDFrame.describe of       fixed acidity  volatile acidity  citric acid  residual sugar  chlorides  \\\n",
       "0               7.0              0.17         0.74           12.80      0.045   \n",
       "1               7.7              0.64         0.21            2.20      0.077   \n",
       "2               6.8              0.39         0.34            7.40      0.020   \n",
       "3               6.3              0.28         0.47           11.20      0.040   \n",
       "4               7.4              0.35         0.20           13.90      0.054   \n",
       "...             ...               ...          ...             ...        ...   \n",
       "6492            7.6              0.32         0.58           16.75      0.050   \n",
       "6493            5.6              0.28         0.27            3.90      0.043   \n",
       "6494            6.4              0.37         0.20            5.60      0.117   \n",
       "6495            6.5              0.26         0.50            8.00      0.051   \n",
       "6496            7.2              0.62         0.06            2.70      0.077   \n",
       "\n",
       "      free sulfur dioxide  total sulfur dioxide  density    pH  sulphates  \\\n",
       "0                    24.0                 126.0  0.99420  3.26       0.38   \n",
       "1                    32.0                 133.0  0.99560  3.27       0.45   \n",
       "2                    38.0                 133.0  0.99212  3.18       0.44   \n",
       "3                    61.0                 183.0  0.99592  3.12       0.51   \n",
       "4                    63.0                 229.0  0.99888  3.11       0.50   \n",
       "...                   ...                   ...      ...   ...        ...   \n",
       "6492                 43.0                 163.0  0.99990  3.15       0.54   \n",
       "6493                 52.0                 158.0  0.99202  3.35       0.44   \n",
       "6494                 61.0                 183.0  0.99459  3.24       0.43   \n",
       "6495                 46.0                 197.0  0.99536  3.18       0.47   \n",
       "6496                 15.0                  85.0  0.99746  3.51       0.54   \n",
       "\n",
       "      alcohol  quality wine_type quality_label  \n",
       "0        12.2        8     white          high  \n",
       "1         9.9        5       red           low  \n",
       "2        12.0        7     white        medium  \n",
       "3         9.5        6     white        medium  \n",
       "4         8.9        6     white        medium  \n",
       "...       ...      ...       ...           ...  \n",
       "6492      9.2        5     white           low  \n",
       "6493     10.7        7     white        medium  \n",
       "6494      9.5        5     white           low  \n",
       "6495      9.5        5     white           low  \n",
       "6496      9.5        5       red           low  \n",
       "\n",
       "[6497 rows x 14 columns]>"
      ]
     },
     "metadata": {},
     "execution_count": 72
    }
   ],
   "source": [
    "wines.describe"
   ]
  },
  {
   "cell_type": "code",
   "execution_count": 74,
   "metadata": {},
   "outputs": [
    {
     "output_type": "execute_result",
     "data": {
      "text/plain": [
       "      fixed acidity  volatile acidity  citric acid  residual sugar  chlorides  \\\n",
       "0               7.4              0.70         0.00             1.9      0.076   \n",
       "1               7.8              0.88         0.00             2.6      0.098   \n",
       "2               7.8              0.76         0.04             2.3      0.092   \n",
       "3              11.2              0.28         0.56             1.9      0.075   \n",
       "4               7.4              0.70         0.00             1.9      0.076   \n",
       "...             ...               ...          ...             ...        ...   \n",
       "4893            6.2              0.21         0.29             1.6      0.039   \n",
       "4894            6.6              0.32         0.36             8.0      0.047   \n",
       "4895            6.5              0.24         0.19             1.2      0.041   \n",
       "4896            5.5              0.29         0.30             1.1      0.022   \n",
       "4897            6.0              0.21         0.38             0.8      0.020   \n",
       "\n",
       "      free sulfur dioxide  total sulfur dioxide  density    pH  sulphates  \\\n",
       "0                    11.0                  34.0  0.99780  3.51       0.56   \n",
       "1                    25.0                  67.0  0.99680  3.20       0.68   \n",
       "2                    15.0                  54.0  0.99700  3.26       0.65   \n",
       "3                    17.0                  60.0  0.99800  3.16       0.58   \n",
       "4                    11.0                  34.0  0.99780  3.51       0.56   \n",
       "...                   ...                   ...      ...   ...        ...   \n",
       "4893                 24.0                  92.0  0.99114  3.27       0.50   \n",
       "4894                 57.0                 168.0  0.99490  3.15       0.46   \n",
       "4895                 30.0                 111.0  0.99254  2.99       0.46   \n",
       "4896                 20.0                 110.0  0.98869  3.34       0.38   \n",
       "4897                 22.0                  98.0  0.98941  3.26       0.32   \n",
       "\n",
       "      alcohol  quality wine_type quality_label  \n",
       "0         9.4        5       red           low  \n",
       "1         9.8        5       red           low  \n",
       "2         9.8        5       red           low  \n",
       "3         9.8        6       red        medium  \n",
       "4         9.4        5       red           low  \n",
       "...       ...      ...       ...           ...  \n",
       "4893     11.2        6     white        medium  \n",
       "4894      9.6        5     white           low  \n",
       "4895      9.4        6     white        medium  \n",
       "4896     12.8        7     white        medium  \n",
       "4897     11.8        6     white        medium  \n",
       "\n",
       "[6497 rows x 14 columns]"
      ],
      "text/html": "<div>\n<style scoped>\n    .dataframe tbody tr th:only-of-type {\n        vertical-align: middle;\n    }\n\n    .dataframe tbody tr th {\n        vertical-align: top;\n    }\n\n    .dataframe thead th {\n        text-align: right;\n    }\n</style>\n<table border=\"1\" class=\"dataframe\">\n  <thead>\n    <tr style=\"text-align: right;\">\n      <th></th>\n      <th>fixed acidity</th>\n      <th>volatile acidity</th>\n      <th>citric acid</th>\n      <th>residual sugar</th>\n      <th>chlorides</th>\n      <th>free sulfur dioxide</th>\n      <th>total sulfur dioxide</th>\n      <th>density</th>\n      <th>pH</th>\n      <th>sulphates</th>\n      <th>alcohol</th>\n      <th>quality</th>\n      <th>wine_type</th>\n      <th>quality_label</th>\n    </tr>\n  </thead>\n  <tbody>\n    <tr>\n      <th>0</th>\n      <td>7.4</td>\n      <td>0.70</td>\n      <td>0.00</td>\n      <td>1.9</td>\n      <td>0.076</td>\n      <td>11.0</td>\n      <td>34.0</td>\n      <td>0.99780</td>\n      <td>3.51</td>\n      <td>0.56</td>\n      <td>9.4</td>\n      <td>5</td>\n      <td>red</td>\n      <td>low</td>\n    </tr>\n    <tr>\n      <th>1</th>\n      <td>7.8</td>\n      <td>0.88</td>\n      <td>0.00</td>\n      <td>2.6</td>\n      <td>0.098</td>\n      <td>25.0</td>\n      <td>67.0</td>\n      <td>0.99680</td>\n      <td>3.20</td>\n      <td>0.68</td>\n      <td>9.8</td>\n      <td>5</td>\n      <td>red</td>\n      <td>low</td>\n    </tr>\n    <tr>\n      <th>2</th>\n      <td>7.8</td>\n      <td>0.76</td>\n      <td>0.04</td>\n      <td>2.3</td>\n      <td>0.092</td>\n      <td>15.0</td>\n      <td>54.0</td>\n      <td>0.99700</td>\n      <td>3.26</td>\n      <td>0.65</td>\n      <td>9.8</td>\n      <td>5</td>\n      <td>red</td>\n      <td>low</td>\n    </tr>\n    <tr>\n      <th>3</th>\n      <td>11.2</td>\n      <td>0.28</td>\n      <td>0.56</td>\n      <td>1.9</td>\n      <td>0.075</td>\n      <td>17.0</td>\n      <td>60.0</td>\n      <td>0.99800</td>\n      <td>3.16</td>\n      <td>0.58</td>\n      <td>9.8</td>\n      <td>6</td>\n      <td>red</td>\n      <td>medium</td>\n    </tr>\n    <tr>\n      <th>4</th>\n      <td>7.4</td>\n      <td>0.70</td>\n      <td>0.00</td>\n      <td>1.9</td>\n      <td>0.076</td>\n      <td>11.0</td>\n      <td>34.0</td>\n      <td>0.99780</td>\n      <td>3.51</td>\n      <td>0.56</td>\n      <td>9.4</td>\n      <td>5</td>\n      <td>red</td>\n      <td>low</td>\n    </tr>\n    <tr>\n      <th>...</th>\n      <td>...</td>\n      <td>...</td>\n      <td>...</td>\n      <td>...</td>\n      <td>...</td>\n      <td>...</td>\n      <td>...</td>\n      <td>...</td>\n      <td>...</td>\n      <td>...</td>\n      <td>...</td>\n      <td>...</td>\n      <td>...</td>\n      <td>...</td>\n    </tr>\n    <tr>\n      <th>4893</th>\n      <td>6.2</td>\n      <td>0.21</td>\n      <td>0.29</td>\n      <td>1.6</td>\n      <td>0.039</td>\n      <td>24.0</td>\n      <td>92.0</td>\n      <td>0.99114</td>\n      <td>3.27</td>\n      <td>0.50</td>\n      <td>11.2</td>\n      <td>6</td>\n      <td>white</td>\n      <td>medium</td>\n    </tr>\n    <tr>\n      <th>4894</th>\n      <td>6.6</td>\n      <td>0.32</td>\n      <td>0.36</td>\n      <td>8.0</td>\n      <td>0.047</td>\n      <td>57.0</td>\n      <td>168.0</td>\n      <td>0.99490</td>\n      <td>3.15</td>\n      <td>0.46</td>\n      <td>9.6</td>\n      <td>5</td>\n      <td>white</td>\n      <td>low</td>\n    </tr>\n    <tr>\n      <th>4895</th>\n      <td>6.5</td>\n      <td>0.24</td>\n      <td>0.19</td>\n      <td>1.2</td>\n      <td>0.041</td>\n      <td>30.0</td>\n      <td>111.0</td>\n      <td>0.99254</td>\n      <td>2.99</td>\n      <td>0.46</td>\n      <td>9.4</td>\n      <td>6</td>\n      <td>white</td>\n      <td>medium</td>\n    </tr>\n    <tr>\n      <th>4896</th>\n      <td>5.5</td>\n      <td>0.29</td>\n      <td>0.30</td>\n      <td>1.1</td>\n      <td>0.022</td>\n      <td>20.0</td>\n      <td>110.0</td>\n      <td>0.98869</td>\n      <td>3.34</td>\n      <td>0.38</td>\n      <td>12.8</td>\n      <td>7</td>\n      <td>white</td>\n      <td>medium</td>\n    </tr>\n    <tr>\n      <th>4897</th>\n      <td>6.0</td>\n      <td>0.21</td>\n      <td>0.38</td>\n      <td>0.8</td>\n      <td>0.020</td>\n      <td>22.0</td>\n      <td>98.0</td>\n      <td>0.98941</td>\n      <td>3.26</td>\n      <td>0.32</td>\n      <td>11.8</td>\n      <td>6</td>\n      <td>white</td>\n      <td>medium</td>\n    </tr>\n  </tbody>\n</table>\n<p>6497 rows × 14 columns</p>\n</div>"
     },
     "metadata": {},
     "execution_count": 74
    }
   ],
   "source": [
    "wines = pd.concat([red_wine,white_wine])\n",
    "wines"
   ]
  },
  {
   "cell_type": "code",
   "execution_count": 83,
   "metadata": {},
   "outputs": [
    {
     "output_type": "execute_result",
     "data": {
      "text/plain": [
       "<AxesSubplot:>"
      ]
     },
     "metadata": {},
     "execution_count": 83
    },
    {
     "output_type": "display_data",
     "data": {
      "text/plain": "<Figure size 432x288 with 1 Axes>",
      "image/svg+xml": "<?xml version=\"1.0\" encoding=\"utf-8\" standalone=\"no\"?>\r\n<!DOCTYPE svg PUBLIC \"-//W3C//DTD SVG 1.1//EN\"\r\n  \"http://www.w3.org/Graphics/SVG/1.1/DTD/svg11.dtd\">\r\n<!-- Created with matplotlib (https://matplotlib.org/) -->\r\n<svg height=\"248.518125pt\" version=\"1.1\" viewBox=\"0 0 381.65 248.518125\" width=\"381.65pt\" xmlns=\"http://www.w3.org/2000/svg\" xmlns:xlink=\"http://www.w3.org/1999/xlink\">\r\n <metadata>\r\n  <rdf:RDF xmlns:cc=\"http://creativecommons.org/ns#\" xmlns:dc=\"http://purl.org/dc/elements/1.1/\" xmlns:rdf=\"http://www.w3.org/1999/02/22-rdf-syntax-ns#\">\r\n   <cc:Work>\r\n    <dc:type rdf:resource=\"http://purl.org/dc/dcmitype/StillImage\"/>\r\n    <dc:date>2021-02-09T15:01:52.131056</dc:date>\r\n    <dc:format>image/svg+xml</dc:format>\r\n    <dc:creator>\r\n     <cc:Agent>\r\n      <dc:title>Matplotlib v3.3.2, https://matplotlib.org/</dc:title>\r\n     </cc:Agent>\r\n    </dc:creator>\r\n   </cc:Work>\r\n  </rdf:RDF>\r\n </metadata>\r\n <defs>\r\n  <style type=\"text/css\">*{stroke-linecap:butt;stroke-linejoin:round;}</style>\r\n </defs>\r\n <g id=\"figure_1\">\r\n  <g id=\"patch_1\">\r\n   <path d=\"M -0 248.518125 \r\nL 381.65 248.518125 \r\nL 381.65 0 \r\nL -0 0 \r\nz\r\n\" style=\"fill:none;\"/>\r\n  </g>\r\n  <g id=\"axes_1\">\r\n   <g id=\"patch_2\">\r\n    <path d=\"M 39.65 224.64 \r\nL 374.45 224.64 \r\nL 374.45 7.2 \r\nL 39.65 7.2 \r\nz\r\n\" style=\"fill:#ffffff;\"/>\r\n   </g>\r\n   <g id=\"patch_3\">\r\n    <path clip-path=\"url(#pe030265b35)\" d=\"M 54.868182 224.64 \r\nL 85.304545 224.64 \r\nL 85.304545 157.034843 \r\nL 54.868182 157.034843 \r\nz\r\n\" style=\"fill:#1f77b4;\"/>\r\n   </g>\r\n   <g id=\"patch_4\">\r\n    <path clip-path=\"url(#pe030265b35)\" d=\"M 85.304545 224.64 \r\nL 115.740909 224.64 \r\nL 115.740909 224.64 \r\nL 85.304545 224.64 \r\nz\r\n\" style=\"fill:#1f77b4;\"/>\r\n   </g>\r\n   <g id=\"patch_5\">\r\n    <path clip-path=\"url(#pe030265b35)\" d=\"M 115.740909 224.64 \r\nL 146.177273 224.64 \r\nL 146.177273 224.64 \r\nL 115.740909 224.64 \r\nz\r\n\" style=\"fill:#1f77b4;\"/>\r\n   </g>\r\n   <g id=\"patch_6\">\r\n    <path clip-path=\"url(#pe030265b35)\" d=\"M 146.177273 224.64 \r\nL 176.613636 224.64 \r\nL 176.613636 224.64 \r\nL 146.177273 224.64 \r\nz\r\n\" style=\"fill:#1f77b4;\"/>\r\n   </g>\r\n   <g id=\"patch_7\">\r\n    <path clip-path=\"url(#pe030265b35)\" d=\"M 176.613636 224.64 \r\nL 207.05 224.64 \r\nL 207.05 224.64 \r\nL 176.613636 224.64 \r\nz\r\n\" style=\"fill:#1f77b4;\"/>\r\n   </g>\r\n   <g id=\"patch_8\">\r\n    <path clip-path=\"url(#pe030265b35)\" d=\"M 207.05 224.64 \r\nL 237.486364 224.64 \r\nL 237.486364 224.64 \r\nL 207.05 224.64 \r\nz\r\n\" style=\"fill:#1f77b4;\"/>\r\n   </g>\r\n   <g id=\"patch_9\">\r\n    <path clip-path=\"url(#pe030265b35)\" d=\"M 237.486364 224.64 \r\nL 267.922727 224.64 \r\nL 267.922727 224.64 \r\nL 237.486364 224.64 \r\nz\r\n\" style=\"fill:#1f77b4;\"/>\r\n   </g>\r\n   <g id=\"patch_10\">\r\n    <path clip-path=\"url(#pe030265b35)\" d=\"M 267.922727 224.64 \r\nL 298.359091 224.64 \r\nL 298.359091 224.64 \r\nL 267.922727 224.64 \r\nz\r\n\" style=\"fill:#1f77b4;\"/>\r\n   </g>\r\n   <g id=\"patch_11\">\r\n    <path clip-path=\"url(#pe030265b35)\" d=\"M 298.359091 224.64 \r\nL 328.795455 224.64 \r\nL 328.795455 224.64 \r\nL 298.359091 224.64 \r\nz\r\n\" style=\"fill:#1f77b4;\"/>\r\n   </g>\r\n   <g id=\"patch_12\">\r\n    <path clip-path=\"url(#pe030265b35)\" d=\"M 328.795455 224.64 \r\nL 359.231818 224.64 \r\nL 359.231818 17.554286 \r\nL 328.795455 17.554286 \r\nz\r\n\" style=\"fill:#1f77b4;\"/>\r\n   </g>\r\n   <g id=\"matplotlib.axis_1\">\r\n    <g id=\"xtick_1\">\r\n     <g id=\"line2d_1\">\r\n      <path clip-path=\"url(#pe030265b35)\" d=\"M 54.868182 224.64 \r\nL 54.868182 7.2 \r\n\" style=\"fill:none;stroke:#b0b0b0;stroke-linecap:square;stroke-width:0.8;\"/>\r\n     </g>\r\n     <g id=\"line2d_2\">\r\n      <defs>\r\n       <path d=\"M 0 0 \r\nL 0 3.5 \r\n\" id=\"m44f4f116cf\" style=\"stroke:#000000;stroke-width:0.8;\"/>\r\n      </defs>\r\n      <g>\r\n       <use style=\"stroke:#000000;stroke-width:0.8;\" x=\"54.868182\" xlink:href=\"#m44f4f116cf\" y=\"224.64\"/>\r\n      </g>\r\n     </g>\r\n     <g id=\"text_1\">\r\n      <!-- red -->\r\n      <g transform=\"translate(46.674432 239.238438)scale(0.1 -0.1)\">\r\n       <defs>\r\n        <path d=\"M 41.109375 46.296875 \r\nQ 39.59375 47.171875 37.8125 47.578125 \r\nQ 36.03125 48 33.890625 48 \r\nQ 26.265625 48 22.1875 43.046875 \r\nQ 18.109375 38.09375 18.109375 28.8125 \r\nL 18.109375 0 \r\nL 9.078125 0 \r\nL 9.078125 54.6875 \r\nL 18.109375 54.6875 \r\nL 18.109375 46.1875 \r\nQ 20.953125 51.171875 25.484375 53.578125 \r\nQ 30.03125 56 36.53125 56 \r\nQ 37.453125 56 38.578125 55.875 \r\nQ 39.703125 55.765625 41.0625 55.515625 \r\nz\r\n\" id=\"DejaVuSans-114\"/>\r\n        <path d=\"M 56.203125 29.59375 \r\nL 56.203125 25.203125 \r\nL 14.890625 25.203125 \r\nQ 15.484375 15.921875 20.484375 11.0625 \r\nQ 25.484375 6.203125 34.421875 6.203125 \r\nQ 39.59375 6.203125 44.453125 7.46875 \r\nQ 49.3125 8.734375 54.109375 11.28125 \r\nL 54.109375 2.78125 \r\nQ 49.265625 0.734375 44.1875 -0.34375 \r\nQ 39.109375 -1.421875 33.890625 -1.421875 \r\nQ 20.796875 -1.421875 13.15625 6.1875 \r\nQ 5.515625 13.8125 5.515625 26.8125 \r\nQ 5.515625 40.234375 12.765625 48.109375 \r\nQ 20.015625 56 32.328125 56 \r\nQ 43.359375 56 49.78125 48.890625 \r\nQ 56.203125 41.796875 56.203125 29.59375 \r\nz\r\nM 47.21875 32.234375 \r\nQ 47.125 39.59375 43.09375 43.984375 \r\nQ 39.0625 48.390625 32.421875 48.390625 \r\nQ 24.90625 48.390625 20.390625 44.140625 \r\nQ 15.875 39.890625 15.1875 32.171875 \r\nz\r\n\" id=\"DejaVuSans-101\"/>\r\n        <path d=\"M 45.40625 46.390625 \r\nL 45.40625 75.984375 \r\nL 54.390625 75.984375 \r\nL 54.390625 0 \r\nL 45.40625 0 \r\nL 45.40625 8.203125 \r\nQ 42.578125 3.328125 38.25 0.953125 \r\nQ 33.9375 -1.421875 27.875 -1.421875 \r\nQ 17.96875 -1.421875 11.734375 6.484375 \r\nQ 5.515625 14.40625 5.515625 27.296875 \r\nQ 5.515625 40.1875 11.734375 48.09375 \r\nQ 17.96875 56 27.875 56 \r\nQ 33.9375 56 38.25 53.625 \r\nQ 42.578125 51.265625 45.40625 46.390625 \r\nz\r\nM 14.796875 27.296875 \r\nQ 14.796875 17.390625 18.875 11.75 \r\nQ 22.953125 6.109375 30.078125 6.109375 \r\nQ 37.203125 6.109375 41.296875 11.75 \r\nQ 45.40625 17.390625 45.40625 27.296875 \r\nQ 45.40625 37.203125 41.296875 42.84375 \r\nQ 37.203125 48.484375 30.078125 48.484375 \r\nQ 22.953125 48.484375 18.875 42.84375 \r\nQ 14.796875 37.203125 14.796875 27.296875 \r\nz\r\n\" id=\"DejaVuSans-100\"/>\r\n       </defs>\r\n       <use xlink:href=\"#DejaVuSans-114\"/>\r\n       <use x=\"38.863281\" xlink:href=\"#DejaVuSans-101\"/>\r\n       <use x=\"100.386719\" xlink:href=\"#DejaVuSans-100\"/>\r\n      </g>\r\n     </g>\r\n    </g>\r\n    <g id=\"xtick_2\">\r\n     <g id=\"line2d_3\">\r\n      <path clip-path=\"url(#pe030265b35)\" d=\"M 359.231818 224.64 \r\nL 359.231818 7.2 \r\n\" style=\"fill:none;stroke:#b0b0b0;stroke-linecap:square;stroke-width:0.8;\"/>\r\n     </g>\r\n     <g id=\"line2d_4\">\r\n      <g>\r\n       <use style=\"stroke:#000000;stroke-width:0.8;\" x=\"359.231818\" xlink:href=\"#m44f4f116cf\" y=\"224.64\"/>\r\n      </g>\r\n     </g>\r\n     <g id=\"text_2\">\r\n      <!-- white -->\r\n      <g transform=\"translate(345.548224 239.238438)scale(0.1 -0.1)\">\r\n       <defs>\r\n        <path d=\"M 4.203125 54.6875 \r\nL 13.1875 54.6875 \r\nL 24.421875 12.015625 \r\nL 35.59375 54.6875 \r\nL 46.1875 54.6875 \r\nL 57.421875 12.015625 \r\nL 68.609375 54.6875 \r\nL 77.59375 54.6875 \r\nL 63.28125 0 \r\nL 52.6875 0 \r\nL 40.921875 44.828125 \r\nL 29.109375 0 \r\nL 18.5 0 \r\nz\r\n\" id=\"DejaVuSans-119\"/>\r\n        <path d=\"M 54.890625 33.015625 \r\nL 54.890625 0 \r\nL 45.90625 0 \r\nL 45.90625 32.71875 \r\nQ 45.90625 40.484375 42.875 44.328125 \r\nQ 39.84375 48.1875 33.796875 48.1875 \r\nQ 26.515625 48.1875 22.3125 43.546875 \r\nQ 18.109375 38.921875 18.109375 30.90625 \r\nL 18.109375 0 \r\nL 9.078125 0 \r\nL 9.078125 75.984375 \r\nL 18.109375 75.984375 \r\nL 18.109375 46.1875 \r\nQ 21.34375 51.125 25.703125 53.5625 \r\nQ 30.078125 56 35.796875 56 \r\nQ 45.21875 56 50.046875 50.171875 \r\nQ 54.890625 44.34375 54.890625 33.015625 \r\nz\r\n\" id=\"DejaVuSans-104\"/>\r\n        <path d=\"M 9.421875 54.6875 \r\nL 18.40625 54.6875 \r\nL 18.40625 0 \r\nL 9.421875 0 \r\nz\r\nM 9.421875 75.984375 \r\nL 18.40625 75.984375 \r\nL 18.40625 64.59375 \r\nL 9.421875 64.59375 \r\nz\r\n\" id=\"DejaVuSans-105\"/>\r\n        <path d=\"M 18.3125 70.21875 \r\nL 18.3125 54.6875 \r\nL 36.8125 54.6875 \r\nL 36.8125 47.703125 \r\nL 18.3125 47.703125 \r\nL 18.3125 18.015625 \r\nQ 18.3125 11.328125 20.140625 9.421875 \r\nQ 21.96875 7.515625 27.59375 7.515625 \r\nL 36.8125 7.515625 \r\nL 36.8125 0 \r\nL 27.59375 0 \r\nQ 17.1875 0 13.234375 3.875 \r\nQ 9.28125 7.765625 9.28125 18.015625 \r\nL 9.28125 47.703125 \r\nL 2.6875 47.703125 \r\nL 2.6875 54.6875 \r\nL 9.28125 54.6875 \r\nL 9.28125 70.21875 \r\nz\r\n\" id=\"DejaVuSans-116\"/>\r\n       </defs>\r\n       <use xlink:href=\"#DejaVuSans-119\"/>\r\n       <use x=\"81.787109\" xlink:href=\"#DejaVuSans-104\"/>\r\n       <use x=\"145.166016\" xlink:href=\"#DejaVuSans-105\"/>\r\n       <use x=\"172.949219\" xlink:href=\"#DejaVuSans-116\"/>\r\n       <use x=\"212.158203\" xlink:href=\"#DejaVuSans-101\"/>\r\n      </g>\r\n     </g>\r\n    </g>\r\n   </g>\r\n   <g id=\"matplotlib.axis_2\">\r\n    <g id=\"ytick_1\">\r\n     <g id=\"line2d_5\">\r\n      <path clip-path=\"url(#pe030265b35)\" d=\"M 39.65 224.64 \r\nL 374.45 224.64 \r\n\" style=\"fill:none;stroke:#b0b0b0;stroke-linecap:square;stroke-width:0.8;\"/>\r\n     </g>\r\n     <g id=\"line2d_6\">\r\n      <defs>\r\n       <path d=\"M 0 0 \r\nL -3.5 0 \r\n\" id=\"m4e9126c75c\" style=\"stroke:#000000;stroke-width:0.8;\"/>\r\n      </defs>\r\n      <g>\r\n       <use style=\"stroke:#000000;stroke-width:0.8;\" x=\"39.65\" xlink:href=\"#m4e9126c75c\" y=\"224.64\"/>\r\n      </g>\r\n     </g>\r\n     <g id=\"text_3\">\r\n      <!-- 0 -->\r\n      <g transform=\"translate(26.2875 228.439219)scale(0.1 -0.1)\">\r\n       <defs>\r\n        <path d=\"M 31.78125 66.40625 \r\nQ 24.171875 66.40625 20.328125 58.90625 \r\nQ 16.5 51.421875 16.5 36.375 \r\nQ 16.5 21.390625 20.328125 13.890625 \r\nQ 24.171875 6.390625 31.78125 6.390625 \r\nQ 39.453125 6.390625 43.28125 13.890625 \r\nQ 47.125 21.390625 47.125 36.375 \r\nQ 47.125 51.421875 43.28125 58.90625 \r\nQ 39.453125 66.40625 31.78125 66.40625 \r\nz\r\nM 31.78125 74.21875 \r\nQ 44.046875 74.21875 50.515625 64.515625 \r\nQ 56.984375 54.828125 56.984375 36.375 \r\nQ 56.984375 17.96875 50.515625 8.265625 \r\nQ 44.046875 -1.421875 31.78125 -1.421875 \r\nQ 19.53125 -1.421875 13.0625 8.265625 \r\nQ 6.59375 17.96875 6.59375 36.375 \r\nQ 6.59375 54.828125 13.0625 64.515625 \r\nQ 19.53125 74.21875 31.78125 74.21875 \r\nz\r\n\" id=\"DejaVuSans-48\"/>\r\n       </defs>\r\n       <use xlink:href=\"#DejaVuSans-48\"/>\r\n      </g>\r\n     </g>\r\n    </g>\r\n    <g id=\"ytick_2\">\r\n     <g id=\"line2d_7\">\r\n      <path clip-path=\"url(#pe030265b35)\" d=\"M 39.65 182.360352 \r\nL 374.45 182.360352 \r\n\" style=\"fill:none;stroke:#b0b0b0;stroke-linecap:square;stroke-width:0.8;\"/>\r\n     </g>\r\n     <g id=\"line2d_8\">\r\n      <g>\r\n       <use style=\"stroke:#000000;stroke-width:0.8;\" x=\"39.65\" xlink:href=\"#m4e9126c75c\" y=\"182.360352\"/>\r\n      </g>\r\n     </g>\r\n     <g id=\"text_4\">\r\n      <!-- 1000 -->\r\n      <g transform=\"translate(7.2 186.159571)scale(0.1 -0.1)\">\r\n       <defs>\r\n        <path d=\"M 12.40625 8.296875 \r\nL 28.515625 8.296875 \r\nL 28.515625 63.921875 \r\nL 10.984375 60.40625 \r\nL 10.984375 69.390625 \r\nL 28.421875 72.90625 \r\nL 38.28125 72.90625 \r\nL 38.28125 8.296875 \r\nL 54.390625 8.296875 \r\nL 54.390625 0 \r\nL 12.40625 0 \r\nz\r\n\" id=\"DejaVuSans-49\"/>\r\n       </defs>\r\n       <use xlink:href=\"#DejaVuSans-49\"/>\r\n       <use x=\"63.623047\" xlink:href=\"#DejaVuSans-48\"/>\r\n       <use x=\"127.246094\" xlink:href=\"#DejaVuSans-48\"/>\r\n       <use x=\"190.869141\" xlink:href=\"#DejaVuSans-48\"/>\r\n      </g>\r\n     </g>\r\n    </g>\r\n    <g id=\"ytick_3\">\r\n     <g id=\"line2d_9\">\r\n      <path clip-path=\"url(#pe030265b35)\" d=\"M 39.65 140.080705 \r\nL 374.45 140.080705 \r\n\" style=\"fill:none;stroke:#b0b0b0;stroke-linecap:square;stroke-width:0.8;\"/>\r\n     </g>\r\n     <g id=\"line2d_10\">\r\n      <g>\r\n       <use style=\"stroke:#000000;stroke-width:0.8;\" x=\"39.65\" xlink:href=\"#m4e9126c75c\" y=\"140.080705\"/>\r\n      </g>\r\n     </g>\r\n     <g id=\"text_5\">\r\n      <!-- 2000 -->\r\n      <g transform=\"translate(7.2 143.879923)scale(0.1 -0.1)\">\r\n       <defs>\r\n        <path d=\"M 19.1875 8.296875 \r\nL 53.609375 8.296875 \r\nL 53.609375 0 \r\nL 7.328125 0 \r\nL 7.328125 8.296875 \r\nQ 12.9375 14.109375 22.625 23.890625 \r\nQ 32.328125 33.6875 34.8125 36.53125 \r\nQ 39.546875 41.84375 41.421875 45.53125 \r\nQ 43.3125 49.21875 43.3125 52.78125 \r\nQ 43.3125 58.59375 39.234375 62.25 \r\nQ 35.15625 65.921875 28.609375 65.921875 \r\nQ 23.96875 65.921875 18.8125 64.3125 \r\nQ 13.671875 62.703125 7.8125 59.421875 \r\nL 7.8125 69.390625 \r\nQ 13.765625 71.78125 18.9375 73 \r\nQ 24.125 74.21875 28.421875 74.21875 \r\nQ 39.75 74.21875 46.484375 68.546875 \r\nQ 53.21875 62.890625 53.21875 53.421875 \r\nQ 53.21875 48.921875 51.53125 44.890625 \r\nQ 49.859375 40.875 45.40625 35.40625 \r\nQ 44.1875 33.984375 37.640625 27.21875 \r\nQ 31.109375 20.453125 19.1875 8.296875 \r\nz\r\n\" id=\"DejaVuSans-50\"/>\r\n       </defs>\r\n       <use xlink:href=\"#DejaVuSans-50\"/>\r\n       <use x=\"63.623047\" xlink:href=\"#DejaVuSans-48\"/>\r\n       <use x=\"127.246094\" xlink:href=\"#DejaVuSans-48\"/>\r\n       <use x=\"190.869141\" xlink:href=\"#DejaVuSans-48\"/>\r\n      </g>\r\n     </g>\r\n    </g>\r\n    <g id=\"ytick_4\">\r\n     <g id=\"line2d_11\">\r\n      <path clip-path=\"url(#pe030265b35)\" d=\"M 39.65 97.801057 \r\nL 374.45 97.801057 \r\n\" style=\"fill:none;stroke:#b0b0b0;stroke-linecap:square;stroke-width:0.8;\"/>\r\n     </g>\r\n     <g id=\"line2d_12\">\r\n      <g>\r\n       <use style=\"stroke:#000000;stroke-width:0.8;\" x=\"39.65\" xlink:href=\"#m4e9126c75c\" y=\"97.801057\"/>\r\n      </g>\r\n     </g>\r\n     <g id=\"text_6\">\r\n      <!-- 3000 -->\r\n      <g transform=\"translate(7.2 101.600276)scale(0.1 -0.1)\">\r\n       <defs>\r\n        <path d=\"M 40.578125 39.3125 \r\nQ 47.65625 37.796875 51.625 33 \r\nQ 55.609375 28.21875 55.609375 21.1875 \r\nQ 55.609375 10.40625 48.1875 4.484375 \r\nQ 40.765625 -1.421875 27.09375 -1.421875 \r\nQ 22.515625 -1.421875 17.65625 -0.515625 \r\nQ 12.796875 0.390625 7.625 2.203125 \r\nL 7.625 11.71875 \r\nQ 11.71875 9.328125 16.59375 8.109375 \r\nQ 21.484375 6.890625 26.8125 6.890625 \r\nQ 36.078125 6.890625 40.9375 10.546875 \r\nQ 45.796875 14.203125 45.796875 21.1875 \r\nQ 45.796875 27.640625 41.28125 31.265625 \r\nQ 36.765625 34.90625 28.71875 34.90625 \r\nL 20.21875 34.90625 \r\nL 20.21875 43.015625 \r\nL 29.109375 43.015625 \r\nQ 36.375 43.015625 40.234375 45.921875 \r\nQ 44.09375 48.828125 44.09375 54.296875 \r\nQ 44.09375 59.90625 40.109375 62.90625 \r\nQ 36.140625 65.921875 28.71875 65.921875 \r\nQ 24.65625 65.921875 20.015625 65.03125 \r\nQ 15.375 64.15625 9.8125 62.3125 \r\nL 9.8125 71.09375 \r\nQ 15.4375 72.65625 20.34375 73.4375 \r\nQ 25.25 74.21875 29.59375 74.21875 \r\nQ 40.828125 74.21875 47.359375 69.109375 \r\nQ 53.90625 64.015625 53.90625 55.328125 \r\nQ 53.90625 49.265625 50.4375 45.09375 \r\nQ 46.96875 40.921875 40.578125 39.3125 \r\nz\r\n\" id=\"DejaVuSans-51\"/>\r\n       </defs>\r\n       <use xlink:href=\"#DejaVuSans-51\"/>\r\n       <use x=\"63.623047\" xlink:href=\"#DejaVuSans-48\"/>\r\n       <use x=\"127.246094\" xlink:href=\"#DejaVuSans-48\"/>\r\n       <use x=\"190.869141\" xlink:href=\"#DejaVuSans-48\"/>\r\n      </g>\r\n     </g>\r\n    </g>\r\n    <g id=\"ytick_5\">\r\n     <g id=\"line2d_13\">\r\n      <path clip-path=\"url(#pe030265b35)\" d=\"M 39.65 55.521409 \r\nL 374.45 55.521409 \r\n\" style=\"fill:none;stroke:#b0b0b0;stroke-linecap:square;stroke-width:0.8;\"/>\r\n     </g>\r\n     <g id=\"line2d_14\">\r\n      <g>\r\n       <use style=\"stroke:#000000;stroke-width:0.8;\" x=\"39.65\" xlink:href=\"#m4e9126c75c\" y=\"55.521409\"/>\r\n      </g>\r\n     </g>\r\n     <g id=\"text_7\">\r\n      <!-- 4000 -->\r\n      <g transform=\"translate(7.2 59.320628)scale(0.1 -0.1)\">\r\n       <defs>\r\n        <path d=\"M 37.796875 64.3125 \r\nL 12.890625 25.390625 \r\nL 37.796875 25.390625 \r\nz\r\nM 35.203125 72.90625 \r\nL 47.609375 72.90625 \r\nL 47.609375 25.390625 \r\nL 58.015625 25.390625 \r\nL 58.015625 17.1875 \r\nL 47.609375 17.1875 \r\nL 47.609375 0 \r\nL 37.796875 0 \r\nL 37.796875 17.1875 \r\nL 4.890625 17.1875 \r\nL 4.890625 26.703125 \r\nz\r\n\" id=\"DejaVuSans-52\"/>\r\n       </defs>\r\n       <use xlink:href=\"#DejaVuSans-52\"/>\r\n       <use x=\"63.623047\" xlink:href=\"#DejaVuSans-48\"/>\r\n       <use x=\"127.246094\" xlink:href=\"#DejaVuSans-48\"/>\r\n       <use x=\"190.869141\" xlink:href=\"#DejaVuSans-48\"/>\r\n      </g>\r\n     </g>\r\n    </g>\r\n    <g id=\"ytick_6\">\r\n     <g id=\"line2d_15\">\r\n      <path clip-path=\"url(#pe030265b35)\" d=\"M 39.65 13.241762 \r\nL 374.45 13.241762 \r\n\" style=\"fill:none;stroke:#b0b0b0;stroke-linecap:square;stroke-width:0.8;\"/>\r\n     </g>\r\n     <g id=\"line2d_16\">\r\n      <g>\r\n       <use style=\"stroke:#000000;stroke-width:0.8;\" x=\"39.65\" xlink:href=\"#m4e9126c75c\" y=\"13.241762\"/>\r\n      </g>\r\n     </g>\r\n     <g id=\"text_8\">\r\n      <!-- 5000 -->\r\n      <g transform=\"translate(7.2 17.04098)scale(0.1 -0.1)\">\r\n       <defs>\r\n        <path d=\"M 10.796875 72.90625 \r\nL 49.515625 72.90625 \r\nL 49.515625 64.59375 \r\nL 19.828125 64.59375 \r\nL 19.828125 46.734375 \r\nQ 21.96875 47.46875 24.109375 47.828125 \r\nQ 26.265625 48.1875 28.421875 48.1875 \r\nQ 40.625 48.1875 47.75 41.5 \r\nQ 54.890625 34.8125 54.890625 23.390625 \r\nQ 54.890625 11.625 47.5625 5.09375 \r\nQ 40.234375 -1.421875 26.90625 -1.421875 \r\nQ 22.3125 -1.421875 17.546875 -0.640625 \r\nQ 12.796875 0.140625 7.71875 1.703125 \r\nL 7.71875 11.625 \r\nQ 12.109375 9.234375 16.796875 8.0625 \r\nQ 21.484375 6.890625 26.703125 6.890625 \r\nQ 35.15625 6.890625 40.078125 11.328125 \r\nQ 45.015625 15.765625 45.015625 23.390625 \r\nQ 45.015625 31 40.078125 35.4375 \r\nQ 35.15625 39.890625 26.703125 39.890625 \r\nQ 22.75 39.890625 18.8125 39.015625 \r\nQ 14.890625 38.140625 10.796875 36.28125 \r\nz\r\n\" id=\"DejaVuSans-53\"/>\r\n       </defs>\r\n       <use xlink:href=\"#DejaVuSans-53\"/>\r\n       <use x=\"63.623047\" xlink:href=\"#DejaVuSans-48\"/>\r\n       <use x=\"127.246094\" xlink:href=\"#DejaVuSans-48\"/>\r\n       <use x=\"190.869141\" xlink:href=\"#DejaVuSans-48\"/>\r\n      </g>\r\n     </g>\r\n    </g>\r\n   </g>\r\n   <g id=\"patch_13\">\r\n    <path d=\"M 39.65 224.64 \r\nL 39.65 7.2 \r\n\" style=\"fill:none;stroke:#000000;stroke-linecap:square;stroke-linejoin:miter;stroke-width:0.8;\"/>\r\n   </g>\r\n   <g id=\"patch_14\">\r\n    <path d=\"M 374.45 224.64 \r\nL 374.45 7.2 \r\n\" style=\"fill:none;stroke:#000000;stroke-linecap:square;stroke-linejoin:miter;stroke-width:0.8;\"/>\r\n   </g>\r\n   <g id=\"patch_15\">\r\n    <path d=\"M 39.65 224.64 \r\nL 374.45 224.64 \r\n\" style=\"fill:none;stroke:#000000;stroke-linecap:square;stroke-linejoin:miter;stroke-width:0.8;\"/>\r\n   </g>\r\n   <g id=\"patch_16\">\r\n    <path d=\"M 39.65 7.2 \r\nL 374.45 7.2 \r\n\" style=\"fill:none;stroke:#000000;stroke-linecap:square;stroke-linejoin:miter;stroke-width:0.8;\"/>\r\n   </g>\r\n  </g>\r\n </g>\r\n <defs>\r\n  <clipPath id=\"pe030265b35\">\r\n   <rect height=\"217.44\" width=\"334.8\" x=\"39.65\" y=\"7.2\"/>\r\n  </clipPath>\r\n </defs>\r\n</svg>\r\n",
      "image/png": "[encoded data removed]"
     },
     "metadata": {
      "needs_background": "light"
     }
    }
   ],
   "source": [
    "wines.wine_type.hist()"
   ]
  },
  {
   "cell_type": "code",
   "execution_count": null,
   "metadata": {},
   "outputs": [],
   "source": []
  }
 ]
}